{
 "cells": [
  {
   "cell_type": "markdown",
   "id": "20980d198e5f991c",
   "metadata": {},
   "source": [
    "# Ejercicio 1: Introducción a Recuperación de Información\n",
    "\n",
    "## Objetivo de la práctica\n",
    "- Entender el problema de **buscar información** en colecciones de texto.\n",
    "- Comprender por qué se necesita un **índice invertido** en recuperación de información.\n",
    "- Programar una primera solución manual y luego optimizarla con un índice.\n",
    "- Evaluar la mejora en tiempos de búsqueda cuando usamos estructuras adecuadas."
   ]
  },
  {
   "cell_type": "markdown",
   "id": "175182ac2f1f542c",
   "metadata": {},
   "source": [
    "## Parte 1: Búsqueda lineal en documentos\n",
    "\n",
    "### Actividad\n",
    "1. Se te proporcionará un conjunto de documentos de texto.\n",
    "2. Escribe una función que:\n",
    "   - Lea todos los documentos.\n",
    "   - Busque una palabra ingresada por el usuario.\n",
    "   - Muestre en qué documentos aparece la palabra."
   ]
  },
  {
   "cell_type": "code",
   "execution_count": 57,
   "id": "initial_id",
   "metadata": {
    "collapsed": true
   },
   "outputs": [],
   "source": [
    "# Dada una palabra (query), se buscará en el corpus y se retorna los docuemntos en los que aparece\n",
    "def buscar_query(nombre_archivo, query):\n",
    "    with open(nombre_archivo, 'r', encoding='utf-8') as corpus:\n",
    "        documentos = corpus.readlines()\n",
    "    \n",
    "    resultados = []\n",
    "    indice_doc_contenedor = 0\n",
    "\n",
    "    for line in documentos:\n",
    "        if query.lower() in line.lower():\n",
    "            resultados.append(f\"Documento {indice_doc_contenedor}: {line.strip()}\")\n",
    "        indice_doc_contenedor += 1\n",
    "\n",
    "    if resultados:\n",
    "        print(resultados)\n",
    "    else:\n",
    "        print('No se encontro el query en el corpus')"
   ]
  },
  {
   "cell_type": "code",
   "execution_count": 58,
   "id": "8810339e",
   "metadata": {},
   "outputs": [
    {
     "name": "stdout",
     "output_type": "stream",
     "text": [
      "['Documento 3: En Baños de Agua Santa, los turistas disfrutan de deportes de aventura como rafting y canopy.', 'Documento 6: Cuenca deslumbra a los turistas con su arquitectura colonial y su gastronomía tradicional.', 'Documento 12: El Parque Nacional Cajas invita a los turistas a caminatas entre lagunas y páramos a gran altitud.', 'Documento 13: Los turistas disfrutan en el feriado de las fiestas locales y de la gastronomía típica de cada región.']\n"
     ]
    }
   ],
   "source": [
    "nombre_archivo = '01_corpus_turismo.txt'\n",
    "query = \"turistas\"\n",
    "buscar_query(nombre_archivo, query)"
   ]
  },
  {
   "cell_type": "markdown",
   "id": "57c9797b0bf7f4bb",
   "metadata": {},
   "source": [
    "## Parte 2: Construcción de un índice invertido\n",
    "\n",
    "### Actividad\n",
    "1. Escribe un programa que:\n",
    "   - Recorra todos los documentos.\n",
    "   - Construya un **índice invertido**, es decir, un diccionario donde:\n",
    "     - Cada palabra clave apunta a una lista de documentos donde aparece.\n",
    "\n",
    "2. Escribe una nueva función de búsqueda que:\n",
    "   - Consulte directamente el índice para encontrar los documentos relevantes.\n",
    "   - Sea mucho más rápida que la búsqueda lineal."
   ]
  },
  {
   "cell_type": "code",
   "execution_count": 59,
   "id": "b542ca2a",
   "metadata": {},
   "outputs": [],
   "source": [
    "# Construcción de un diccionario índice invertido\n",
    "def construir_indice_invertido(nombre_archivo):\n",
    "    with open(nombre_archivo, 'r', encoding='utf-8') as corpus:\n",
    "        documentos = corpus.readlines()\n",
    "    \n",
    "    indice_invertido = {}\n",
    "\n",
    "    for i, documento in enumerate(documentos):\n",
    "        palabras = documento.lower().strip().split()\n",
    "        \n",
    "        for palabra in palabras:\n",
    "            palabra = palabra.strip('.,;:!?()\"\\'')\n",
    "            if palabra:\n",
    "                if palabra not in indice_invertido:\n",
    "                    indice_invertido[palabra] = set()\n",
    "                indice_invertido[palabra].add(i)\n",
    "\n",
    "    return indice_invertido, documentos"
   ]
  },
  {
   "cell_type": "code",
   "execution_count": 60,
   "id": "66197497",
   "metadata": {},
   "outputs": [],
   "source": [
    "# Funcion de busqueda que utiliza el indice invertido\n",
    "def buscar_con_indice(indice_invertido, documentos, query):\n",
    "    query = query.lower().strip('.,;:!?()\"\\'')\n",
    "    if query in indice_invertido:\n",
    "        indices_documentos = indice_invertido[query]\n",
    "        resultados=[]\n",
    "        for i in indices_documentos:\n",
    "            resultados.append(f\"Documento {i}: {documentos[i].strip()}\")\n",
    "\n",
    "        print(resultados)\n",
    "    else:\n",
    "        print('No se encontró el query en el corpus')"
   ]
  },
  {
   "cell_type": "code",
   "execution_count": 61,
   "id": "34e7a4522b06d969",
   "metadata": {},
   "outputs": [
    {
     "name": "stdout",
     "output_type": "stream",
     "text": [
      "['Documento 3: En Baños de Agua Santa, los turistas disfrutan de deportes de aventura como rafting y canopy.', 'Documento 12: El Parque Nacional Cajas invita a los turistas a caminatas entre lagunas y páramos a gran altitud.', 'Documento 13: Los turistas disfrutan en el feriado de las fiestas locales y de la gastronomía típica de cada región.', 'Documento 6: Cuenca deslumbra a los turistas con su arquitectura colonial y su gastronomía tradicional.']\n"
     ]
    }
   ],
   "source": [
    "nombre_archivo = '01_corpus_turismo.txt'\n",
    "indice_invertido, documentos = construir_indice_invertido(nombre_archivo)\n",
    "\n",
    "buscar_con_indice(indice_invertido, documentos, 'turistas')"
   ]
  },
  {
   "cell_type": "markdown",
   "id": "3f311d0944a2f98d",
   "metadata": {},
   "source": [
    "## Parte 3: Evaluación de tiempos de búsqueda\n",
    "### Actividad\n",
    "\n",
    "1. Realiza la búsqueda de varias palabras usando:\n",
    "      -  Corpus pequeño: 16 documentos (turismo en Ecuador).\n",
    "      -  Corpus grande: 500 documentos (versión ampliada).\n",
    "2. Mide el tiempo de ejecución:\n",
    "      -  Para búsqueda lineal.\n",
    "      -  Para búsqueda usando índice invertido.\n",
    "      -  Grafica o presenta los resultados en una tabla comparativa.\n",
    "\n",
    "### Ejemplo de palabras para buscar\n",
    "- quito\n",
    "- montañita\n",
    "- feriado\n",
    "- playas\n",
    "- aventura\n",
    "- galápagos"
   ]
  },
  {
   "cell_type": "code",
   "execution_count": 62,
   "id": "15211fcaadfeb175",
   "metadata": {},
   "outputs": [],
   "source": [
    "import time"
   ]
  },
  {
   "cell_type": "code",
   "execution_count": 63,
   "id": "7185e97b",
   "metadata": {},
   "outputs": [],
   "source": [
    "def medir_tiempo_busqueda_lineal(nombre_archivo, querys):\n",
    "    tiempos = []\n",
    "    for query in querys:\n",
    "        inicio = time.time()\n",
    "        buscar_query(nombre_archivo, query)\n",
    "        fin = time.time()\n",
    "        tiempos.append(fin - inicio)\n",
    "    return tiempos\n",
    "\n",
    "def medir_tiempo_busqueda_indice_invertido(indice_invertido, documentos, querys):\n",
    "    tiempos = []\n",
    "    for query in querys:\n",
    "        inicio = time.time()\n",
    "        buscar_con_indice(indice_invertido, documentos, query)\n",
    "        fin = time.time()\n",
    "        tiempos.append(fin - inicio)\n",
    "    return tiempos"
   ]
  },
  {
   "cell_type": "code",
   "execution_count": 64,
   "id": "395e0919",
   "metadata": {},
   "outputs": [],
   "source": [
    "corpus_pequenio = '01_corpus_turismo.txt'\n",
    "corpus_grande = '01_corpus_turismo_500.txt'\n",
    "\n",
    "querys = [\"quito\", \"montañita\", \"feriado\", \"playas\", \"aventura\", \"galápagos\"]"
   ]
  },
  {
   "cell_type": "code",
   "execution_count": 65,
   "id": "1851da67",
   "metadata": {},
   "outputs": [
    {
     "name": "stdout",
     "output_type": "stream",
     "text": [
      "['Documento 2: La ciudad de Quito cuenta con un centro histórico declarado Patrimonio de la Humanidad por la UNESCO.']\n",
      "['Documento 4: La Ruta del Spondylus conecta playas famosas como Montañita, Salinas y Puerto López.', 'Documento 15: Montañita se llena de surfistas y viajeros jóvenes durante los feriados nacionales.']\n",
      "['Documento 11: En el feriado, muchos ecuatorianos visitan la Amazonía para conocer comunidades indígenas y cascadas.', 'Documento 13: Los turistas disfrutan en el feriado de las fiestas locales y de la gastronomía típica de cada región.', 'Documento 15: Montañita se llena de surfistas y viajeros jóvenes durante los feriados nacionales.']\n",
      "['Documento 0: Ecuador es un país megadiverso, con playas, montañas y selvas ideales para el turismo ecológico.', 'Documento 4: La Ruta del Spondylus conecta playas famosas como Montañita, Salinas y Puerto López.', 'Documento 9: Guayaquil sorprende con su Malecón 2000, su vida nocturna y su cercanía a las playas del Pacífico.']\n",
      "['Documento 3: En Baños de Agua Santa, los turistas disfrutan de deportes de aventura como rafting y canopy.']\n",
      "['Documento 1: Las Islas Galápagos atraen visitantes de todo el mundo por su biodiversidad única.']\n",
      "['Documento 2: La ciudad de Quito cuenta con un centro histórico declarado Patrimonio de la Humanidad por la UNESCO.']\n",
      "['Documento 4: La Ruta del Spondylus conecta playas famosas como Montañita, Salinas y Puerto López.', 'Documento 15: Montañita se llena de surfistas y viajeros jóvenes durante los feriados nacionales.']\n",
      "['Documento 11: En el feriado, muchos ecuatorianos visitan la Amazonía para conocer comunidades indígenas y cascadas.', 'Documento 13: Los turistas disfrutan en el feriado de las fiestas locales y de la gastronomía típica de cada región.']\n",
      "['Documento 0: Ecuador es un país megadiverso, con playas, montañas y selvas ideales para el turismo ecológico.', 'Documento 9: Guayaquil sorprende con su Malecón 2000, su vida nocturna y su cercanía a las playas del Pacífico.', 'Documento 4: La Ruta del Spondylus conecta playas famosas como Montañita, Salinas y Puerto López.']\n",
      "['Documento 3: En Baños de Agua Santa, los turistas disfrutan de deportes de aventura como rafting y canopy.']\n",
      "['Documento 1: Las Islas Galápagos atraen visitantes de todo el mundo por su biodiversidad única.']\n"
     ]
    }
   ],
   "source": [
    "# -------- Corpus pequeño --------\n",
    "\n",
    "tiempos_lineal_pequenio = medir_tiempo_busqueda_lineal(corpus_pequenio, querys)\n",
    "\n",
    "indice_pequenio, documentos_pequenio = construir_indice_invertido(corpus_pequenio)\n",
    "tiempos_indice_pequenio = medir_tiempo_busqueda_indice_invertido(indice_pequenio, documentos_pequenio, querys)"
   ]
  },
  {
   "cell_type": "code",
   "execution_count": 66,
   "id": "8705456a",
   "metadata": {},
   "outputs": [
    {
     "name": "stdout",
     "output_type": "stream",
     "text": [
      "['Documento 3: Quito tiene un centro histórico Patrimonio de la Humanidad Perfecto para surf.', 'Documento 15: Quito tiene un centro histórico Patrimonio de la Humanidad Ideal para el próximo feriado.', 'Documento 16: Quito tiene un centro histórico Patrimonio de la Humanidad Un lugar sorprendente para visitar.', 'Documento 38: Quito tiene un centro histórico Patrimonio de la Humanidad Perfecto para rafting.', 'Documento 42: Quito tiene un centro histórico Patrimonio de la Humanidad Perfecto para senderismo.', 'Documento 72: Quito tiene un centro histórico Patrimonio de la Humanidad Ideal para el próximo feriado.', 'Documento 74: Quito tiene un centro histórico Patrimonio de la Humanidad Ideal para el próximo feriado.', 'Documento 88: Quito tiene un centro histórico Patrimonio de la Humanidad', 'Documento 103: Quito tiene un centro histórico Patrimonio de la Humanidad Perfecto para canopy.', 'Documento 135: Quito tiene un centro histórico Patrimonio de la Humanidad Perfecto para canopy.', 'Documento 200: Quito tiene un centro histórico Patrimonio de la Humanidad Un lugar sorprendente para visitar.', 'Documento 212: Quito tiene un centro histórico Patrimonio de la Humanidad Ideal para el próximo feriado.', 'Documento 237: Quito tiene un centro histórico Patrimonio de la Humanidad Perfecto para senderismo.', 'Documento 259: Quito tiene un centro histórico Patrimonio de la Humanidad Un lugar auténtico para visitar.', 'Documento 290: Quito tiene un centro histórico Patrimonio de la Humanidad Perfecto para rafting.', 'Documento 324: Quito tiene un centro histórico Patrimonio de la Humanidad Ideal para el próximo feriado.', 'Documento 354: Quito tiene un centro histórico Patrimonio de la Humanidad Perfecto para surf.', 'Documento 390: Quito tiene un centro histórico Patrimonio de la Humanidad Un lugar tranquilo para visitar.', 'Documento 468: Quito tiene un centro histórico Patrimonio de la Humanidad', 'Documento 486: Quito tiene un centro histórico Patrimonio de la Humanidad Ideal para el próximo feriado.']\n",
      "['Documento 19: La Ruta del Spondylus conecta playas famosas como Montañita', 'Documento 27: La Ruta del Spondylus conecta playas famosas como Montañita Un lugar auténtico para visitar.', 'Documento 35: La Ruta del Spondylus conecta playas famosas como Montañita Ideal para el próximo feriado.', 'Documento 50: La Ruta del Spondylus conecta playas famosas como Montañita Perfecto para rafting.', 'Documento 66: La Ruta del Spondylus conecta playas famosas como Montañita Una experiencia inolvidable.', 'Documento 68: La Ruta del Spondylus conecta playas famosas como Montañita Una experiencia inolvidable.', 'Documento 78: La Ruta del Spondylus conecta playas famosas como Montañita Ideal para el próximo feriado.', 'Documento 82: La Ruta del Spondylus conecta playas famosas como Montañita', 'Documento 86: La Ruta del Spondylus conecta playas famosas como Montañita', 'Documento 87: Montañita se llena de surfistas durante los feriados Un lugar espectacular para visitar.', 'Documento 95: La Ruta del Spondylus conecta playas famosas como Montañita', 'Documento 99: La Ruta del Spondylus conecta playas famosas como Montañita Perfecto para senderismo.', 'Documento 102: La Ruta del Spondylus conecta playas famosas como Montañita Un lugar increíble para visitar.', 'Documento 106: Montañita se llena de surfistas durante los feriados Perfecto para surf.', 'Documento 119: La Ruta del Spondylus conecta playas famosas como Montañita', 'Documento 123: La Ruta del Spondylus conecta playas famosas como Montañita Ideal para el próximo feriado.', 'Documento 125: Montañita se llena de surfistas durante los feriados Una experiencia inolvidable.', 'Documento 134: La Ruta del Spondylus conecta playas famosas como Montañita Perfecto para canopy.', 'Documento 145: Montañita se llena de surfistas durante los feriados', 'Documento 150: La Ruta del Spondylus conecta playas famosas como Montañita', 'Documento 163: La Ruta del Spondylus conecta playas famosas como Montañita Perfecto para surf.', 'Documento 169: La Ruta del Spondylus conecta playas famosas como Montañita Ideal para el próximo feriado.', 'Documento 177: Montañita se llena de surfistas durante los feriados Un lugar auténtico para visitar.', 'Documento 184: Montañita se llena de surfistas durante los feriados Perfecto para canopy.', 'Documento 197: La Ruta del Spondylus conecta playas famosas como Montañita Una experiencia inolvidable.', 'Documento 204: Montañita se llena de surfistas durante los feriados Ideal para el próximo feriado.', 'Documento 208: Montañita se llena de surfistas durante los feriados Perfecto para rafting.', 'Documento 210: Montañita se llena de surfistas durante los feriados Ideal para el próximo feriado.', 'Documento 218: La Ruta del Spondylus conecta playas famosas como Montañita Perfecto para avistamiento de aves.', 'Documento 228: La Ruta del Spondylus conecta playas famosas como Montañita Ideal para el próximo feriado.', 'Documento 232: La Ruta del Spondylus conecta playas famosas como Montañita Ideal para el próximo feriado.', 'Documento 234: La Ruta del Spondylus conecta playas famosas como Montañita Una experiencia inolvidable.', 'Documento 235: La Ruta del Spondylus conecta playas famosas como Montañita Un lugar tranquilo para visitar.', 'Documento 238: La Ruta del Spondylus conecta playas famosas como Montañita Un lugar sorprendente para visitar.', 'Documento 243: La Ruta del Spondylus conecta playas famosas como Montañita Un lugar auténtico para visitar.', 'Documento 265: La Ruta del Spondylus conecta playas famosas como Montañita Un lugar increíble para visitar.', 'Documento 267: Montañita se llena de surfistas durante los feriados', 'Documento 272: La Ruta del Spondylus conecta playas famosas como Montañita Una experiencia inolvidable.', 'Documento 276: La Ruta del Spondylus conecta playas famosas como Montañita Un lugar auténtico para visitar.', 'Documento 297: La Ruta del Spondylus conecta playas famosas como Montañita Perfecto para rafting.', 'Documento 298: La Ruta del Spondylus conecta playas famosas como Montañita Un lugar famoso para visitar.', 'Documento 299: Montañita se llena de surfistas durante los feriados Perfecto para surf.', 'Documento 311: Montañita se llena de surfistas durante los feriados Perfecto para surf.', 'Documento 315: Montañita se llena de surfistas durante los feriados Una experiencia inolvidable.', 'Documento 317: Montañita se llena de surfistas durante los feriados Ideal para el próximo feriado.', 'Documento 320: La Ruta del Spondylus conecta playas famosas como Montañita Ideal para el próximo feriado.', 'Documento 321: La Ruta del Spondylus conecta playas famosas como Montañita Perfecto para rafting.', 'Documento 322: Montañita se llena de surfistas durante los feriados', 'Documento 326: La Ruta del Spondylus conecta playas famosas como Montañita Una experiencia inolvidable.', 'Documento 327: La Ruta del Spondylus conecta playas famosas como Montañita Ideal para el próximo feriado.', 'Documento 369: La Ruta del Spondylus conecta playas famosas como Montañita Perfecto para avistamiento de aves.', 'Documento 380: Montañita se llena de surfistas durante los feriados Una experiencia inolvidable.', 'Documento 383: La Ruta del Spondylus conecta playas famosas como Montañita Perfecto para rafting.', 'Documento 386: Montañita se llena de surfistas durante los feriados Un lugar auténtico para visitar.', 'Documento 389: La Ruta del Spondylus conecta playas famosas como Montañita Ideal para el próximo feriado.', 'Documento 395: La Ruta del Spondylus conecta playas famosas como Montañita', 'Documento 402: Montañita se llena de surfistas durante los feriados', 'Documento 404: La Ruta del Spondylus conecta playas famosas como Montañita Un lugar sorprendente para visitar.', 'Documento 405: La Ruta del Spondylus conecta playas famosas como Montañita Ideal para el próximo feriado.', 'Documento 408: Montañita se llena de surfistas durante los feriados', 'Documento 412: Montañita se llena de surfistas durante los feriados Un lugar auténtico para visitar.', 'Documento 416: La Ruta del Spondylus conecta playas famosas como Montañita Perfecto para canopy.', 'Documento 418: La Ruta del Spondylus conecta playas famosas como Montañita', 'Documento 421: Montañita se llena de surfistas durante los feriados', 'Documento 422: La Ruta del Spondylus conecta playas famosas como Montañita Un lugar tranquilo para visitar.', 'Documento 429: La Ruta del Spondylus conecta playas famosas como Montañita', 'Documento 449: Montañita se llena de surfistas durante los feriados Perfecto para canopy.', 'Documento 450: Montañita se llena de surfistas durante los feriados Ideal para el próximo feriado.', 'Documento 466: La Ruta del Spondylus conecta playas famosas como Montañita Perfecto para rafting.', 'Documento 475: Montañita se llena de surfistas durante los feriados Una experiencia inolvidable.', 'Documento 479: La Ruta del Spondylus conecta playas famosas como Montañita Ideal para el próximo feriado.', 'Documento 482: Montañita se llena de surfistas durante los feriados Una experiencia inolvidable.', 'Documento 492: Montañita se llena de surfistas durante los feriados Perfecto para senderismo.', 'Documento 493: Montañita se llena de surfistas durante los feriados Ideal para el próximo feriado.']\n",
      "['Documento 8: El Parque Nacional Cajas invita a caminatas entre lagunas Ideal para el próximo feriado.', 'Documento 9: Mindo es famoso por el avistamiento de aves Ideal para el próximo feriado.', 'Documento 11: Las Islas Galápagos atraen visitantes por su biodiversidad única Ideal para el próximo feriado.', 'Documento 15: Quito tiene un centro histórico Patrimonio de la Humanidad Ideal para el próximo feriado.', 'Documento 26: Durante el feriado, muchos visitan la Amazonía ecuatoriana Perfecto para rafting.', 'Documento 29: Ecuador es un país megadiverso, ideal para el turismo ecológico Ideal para el próximo feriado.', 'Documento 31: Mindo es famoso por el avistamiento de aves Ideal para el próximo feriado.', 'Documento 32: El volcán Cotopaxi es un destino de senderismo popular Ideal para el próximo feriado.', 'Documento 33: Otavalo es conocido por su mercado indígena y su artesanía Ideal para el próximo feriado.', 'Documento 34: La Laguna Quilotoa destaca por su color turquesa Ideal para el próximo feriado.', 'Documento 35: La Ruta del Spondylus conecta playas famosas como Montañita Ideal para el próximo feriado.', 'Documento 39: Vilcabamba atrae visitantes interesados en longevidad y naturaleza Ideal para el próximo feriado.', 'Documento 43: Durante el feriado, muchos visitan la Amazonía ecuatoriana Un lugar increíble para visitar.', 'Documento 49: Los turistas disfrutan las fiestas y gastronomía típica local Ideal para el próximo feriado.', 'Documento 55: Durante el feriado, muchos visitan la Amazonía ecuatoriana Ideal para el próximo feriado.', 'Documento 64: Otavalo es conocido por su mercado indígena y su artesanía Ideal para el próximo feriado.', 'Documento 65: La Laguna Quilotoa destaca por su color turquesa Ideal para el próximo feriado.', 'Documento 69: Durante el feriado, muchos visitan la Amazonía ecuatoriana Un lugar tranquilo para visitar.', 'Documento 72: Quito tiene un centro histórico Patrimonio de la Humanidad Ideal para el próximo feriado.', 'Documento 74: Quito tiene un centro histórico Patrimonio de la Humanidad Ideal para el próximo feriado.', 'Documento 78: La Ruta del Spondylus conecta playas famosas como Montañita Ideal para el próximo feriado.', 'Documento 79: Guayaquil sorprende con su Malecón 2000 y vida nocturna Ideal para el próximo feriado.', 'Documento 87: Montañita se llena de surfistas durante los feriados Un lugar espectacular para visitar.', 'Documento 90: Baños de Agua Santa ofrece deportes de aventura como rafting Ideal para el próximo feriado.', 'Documento 105: El volcán Cotopaxi es un destino de senderismo popular Ideal para el próximo feriado.', 'Documento 106: Montañita se llena de surfistas durante los feriados Perfecto para surf.', 'Documento 107: Los turistas disfrutan las fiestas y gastronomía típica local Ideal para el próximo feriado.', 'Documento 108: Ecuador es un país megadiverso, ideal para el turismo ecológico Ideal para el próximo feriado.', 'Documento 109: Ecuador es un país megadiverso, ideal para el turismo ecológico Ideal para el próximo feriado.', 'Documento 112: Durante el feriado, muchos visitan la Amazonía ecuatoriana Perfecto para rafting.', 'Documento 115: Guayaquil sorprende con su Malecón 2000 y vida nocturna Ideal para el próximo feriado.', 'Documento 122: Guayaquil sorprende con su Malecón 2000 y vida nocturna Ideal para el próximo feriado.', 'Documento 123: La Ruta del Spondylus conecta playas famosas como Montañita Ideal para el próximo feriado.', 'Documento 125: Montañita se llena de surfistas durante los feriados Una experiencia inolvidable.', 'Documento 129: Ecuador es un país megadiverso, ideal para el turismo ecológico Ideal para el próximo feriado.', 'Documento 131: Durante el feriado, muchos visitan la Amazonía ecuatoriana Perfecto para avistamiento de aves.', 'Documento 132: Durante el feriado, muchos visitan la Amazonía ecuatoriana', 'Documento 133: Cuenca deslumbra con su arquitectura colonial y gastronomía Ideal para el próximo feriado.', 'Documento 137: Mindo es famoso por el avistamiento de aves Ideal para el próximo feriado.', 'Documento 138: Las Islas Galápagos atraen visitantes por su biodiversidad única Ideal para el próximo feriado.', 'Documento 145: Montañita se llena de surfistas durante los feriados', 'Documento 146: Guayaquil sorprende con su Malecón 2000 y vida nocturna Ideal para el próximo feriado.', 'Documento 147: Vilcabamba atrae visitantes interesados en longevidad y naturaleza Ideal para el próximo feriado.', 'Documento 152: Durante el feriado, muchos visitan la Amazonía ecuatoriana Perfecto para surf.', 'Documento 153: Mindo es famoso por el avistamiento de aves Ideal para el próximo feriado.', 'Documento 154: Cuenca deslumbra con su arquitectura colonial y gastronomía Ideal para el próximo feriado.', 'Documento 156: La Laguna Quilotoa destaca por su color turquesa Ideal para el próximo feriado.', 'Documento 161: Durante el feriado, muchos visitan la Amazonía ecuatoriana Ideal para el próximo feriado.', 'Documento 165: Vilcabamba atrae visitantes interesados en longevidad y naturaleza Ideal para el próximo feriado.', 'Documento 166: Durante el feriado, muchos visitan la Amazonía ecuatoriana Un lugar auténtico para visitar.', 'Documento 167: Ecuador es un país megadiverso, ideal para el turismo ecológico Ideal para el próximo feriado.', 'Documento 169: La Ruta del Spondylus conecta playas famosas como Montañita Ideal para el próximo feriado.', 'Documento 177: Montañita se llena de surfistas durante los feriados Un lugar auténtico para visitar.', 'Documento 178: Durante el feriado, muchos visitan la Amazonía ecuatoriana Ideal para el próximo feriado.', 'Documento 180: El Parque Nacional Cajas invita a caminatas entre lagunas Ideal para el próximo feriado.', 'Documento 184: Montañita se llena de surfistas durante los feriados Perfecto para canopy.', 'Documento 188: Durante el feriado, muchos visitan la Amazonía ecuatoriana Una experiencia inolvidable.', 'Documento 191: El Parque Nacional Cajas invita a caminatas entre lagunas Ideal para el próximo feriado.', 'Documento 193: El Parque Nacional Cajas invita a caminatas entre lagunas Ideal para el próximo feriado.', 'Documento 194: El Parque Nacional Cajas invita a caminatas entre lagunas Ideal para el próximo feriado.', 'Documento 198: Guayaquil sorprende con su Malecón 2000 y vida nocturna Ideal para el próximo feriado.', 'Documento 199: Ecuador es un país megadiverso, ideal para el turismo ecológico Ideal para el próximo feriado.', 'Documento 201: Baños de Agua Santa ofrece deportes de aventura como rafting Ideal para el próximo feriado.', 'Documento 202: Durante el feriado, muchos visitan la Amazonía ecuatoriana Ideal para el próximo feriado.', 'Documento 204: Montañita se llena de surfistas durante los feriados Ideal para el próximo feriado.', 'Documento 208: Montañita se llena de surfistas durante los feriados Perfecto para rafting.', 'Documento 209: Durante el feriado, muchos visitan la Amazonía ecuatoriana', 'Documento 210: Montañita se llena de surfistas durante los feriados Ideal para el próximo feriado.', 'Documento 212: Quito tiene un centro histórico Patrimonio de la Humanidad Ideal para el próximo feriado.', 'Documento 216: El Parque Nacional Cajas invita a caminatas entre lagunas Ideal para el próximo feriado.', 'Documento 222: El volcán Cotopaxi es un destino de senderismo popular Ideal para el próximo feriado.', 'Documento 224: Ecuador es un país megadiverso, ideal para el turismo ecológico Ideal para el próximo feriado.', 'Documento 228: La Ruta del Spondylus conecta playas famosas como Montañita Ideal para el próximo feriado.', 'Documento 232: La Ruta del Spondylus conecta playas famosas como Montañita Ideal para el próximo feriado.', 'Documento 233: Guayaquil sorprende con su Malecón 2000 y vida nocturna Ideal para el próximo feriado.', 'Documento 247: Mindo es famoso por el avistamiento de aves Ideal para el próximo feriado.', 'Documento 256: Durante el feriado, muchos visitan la Amazonía ecuatoriana Una experiencia inolvidable.', 'Documento 261: Durante el feriado, muchos visitan la Amazonía ecuatoriana Ideal para el próximo feriado.', 'Documento 266: El Parque Nacional Cajas invita a caminatas entre lagunas Ideal para el próximo feriado.', 'Documento 267: Montañita se llena de surfistas durante los feriados', 'Documento 268: Vilcabamba atrae visitantes interesados en longevidad y naturaleza Ideal para el próximo feriado.', 'Documento 270: Mindo es famoso por el avistamiento de aves Ideal para el próximo feriado.', 'Documento 279: Ecuador es un país megadiverso, ideal para el turismo ecológico Ideal para el próximo feriado.', 'Documento 280: El Parque Nacional Cajas invita a caminatas entre lagunas Ideal para el próximo feriado.', 'Documento 281: Los turistas disfrutan las fiestas y gastronomía típica local Ideal para el próximo feriado.', 'Documento 285: Los turistas disfrutan las fiestas y gastronomía típica local Ideal para el próximo feriado.', 'Documento 294: Las Islas Galápagos atraen visitantes por su biodiversidad única Ideal para el próximo feriado.', 'Documento 299: Montañita se llena de surfistas durante los feriados Perfecto para surf.', 'Documento 302: Los turistas disfrutan las fiestas y gastronomía típica local Ideal para el próximo feriado.', 'Documento 305: Las Islas Galápagos atraen visitantes por su biodiversidad única Ideal para el próximo feriado.', 'Documento 307: Las Islas Galápagos atraen visitantes por su biodiversidad única Ideal para el próximo feriado.', 'Documento 308: El volcán Cotopaxi es un destino de senderismo popular Ideal para el próximo feriado.', 'Documento 309: Durante el feriado, muchos visitan la Amazonía ecuatoriana Un lugar tranquilo para visitar.', 'Documento 310: Baños de Agua Santa ofrece deportes de aventura como rafting Ideal para el próximo feriado.', 'Documento 311: Montañita se llena de surfistas durante los feriados Perfecto para surf.', 'Documento 314: Durante el feriado, muchos visitan la Amazonía ecuatoriana Un lugar sorprendente para visitar.', 'Documento 315: Montañita se llena de surfistas durante los feriados Una experiencia inolvidable.', 'Documento 317: Montañita se llena de surfistas durante los feriados Ideal para el próximo feriado.', 'Documento 320: La Ruta del Spondylus conecta playas famosas como Montañita Ideal para el próximo feriado.', 'Documento 322: Montañita se llena de surfistas durante los feriados', 'Documento 324: Quito tiene un centro histórico Patrimonio de la Humanidad Ideal para el próximo feriado.', 'Documento 327: La Ruta del Spondylus conecta playas famosas como Montañita Ideal para el próximo feriado.', 'Documento 328: Durante el feriado, muchos visitan la Amazonía ecuatoriana Un lugar tranquilo para visitar.', 'Documento 330: Mindo es famoso por el avistamiento de aves Ideal para el próximo feriado.', 'Documento 332: Ecuador es un país megadiverso, ideal para el turismo ecológico Ideal para el próximo feriado.', 'Documento 336: Baños de Agua Santa ofrece deportes de aventura como rafting Ideal para el próximo feriado.', 'Documento 339: Otavalo es conocido por su mercado indígena y su artesanía Ideal para el próximo feriado.', 'Documento 341: Otavalo es conocido por su mercado indígena y su artesanía Ideal para el próximo feriado.', 'Documento 343: Cuenca deslumbra con su arquitectura colonial y gastronomía Ideal para el próximo feriado.', 'Documento 345: Durante el feriado, muchos visitan la Amazonía ecuatoriana Ideal para el próximo feriado.', 'Documento 350: Otavalo es conocido por su mercado indígena y su artesanía Ideal para el próximo feriado.', 'Documento 353: Durante el feriado, muchos visitan la Amazonía ecuatoriana', 'Documento 359: Durante el feriado, muchos visitan la Amazonía ecuatoriana Una experiencia inolvidable.', 'Documento 360: El Parque Nacional Cajas invita a caminatas entre lagunas Ideal para el próximo feriado.', 'Documento 361: El Parque Nacional Cajas invita a caminatas entre lagunas Ideal para el próximo feriado.', 'Documento 364: Mindo es famoso por el avistamiento de aves Ideal para el próximo feriado.', 'Documento 368: Guayaquil sorprende con su Malecón 2000 y vida nocturna Ideal para el próximo feriado.', 'Documento 371: Durante el feriado, muchos visitan la Amazonía ecuatoriana Un lugar tranquilo para visitar.', 'Documento 373: Durante el feriado, muchos visitan la Amazonía ecuatoriana', 'Documento 374: El Parque Nacional Cajas invita a caminatas entre lagunas Ideal para el próximo feriado.', 'Documento 376: Baños de Agua Santa ofrece deportes de aventura como rafting Ideal para el próximo feriado.', 'Documento 379: Otavalo es conocido por su mercado indígena y su artesanía Ideal para el próximo feriado.', 'Documento 380: Montañita se llena de surfistas durante los feriados Una experiencia inolvidable.', 'Documento 382: Ecuador es un país megadiverso, ideal para el turismo ecológico Ideal para el próximo feriado.', 'Documento 386: Montañita se llena de surfistas durante los feriados Un lugar auténtico para visitar.', 'Documento 389: La Ruta del Spondylus conecta playas famosas como Montañita Ideal para el próximo feriado.', 'Documento 394: Los turistas disfrutan las fiestas y gastronomía típica local Ideal para el próximo feriado.', 'Documento 402: Montañita se llena de surfistas durante los feriados', 'Documento 405: La Ruta del Spondylus conecta playas famosas como Montañita Ideal para el próximo feriado.', 'Documento 407: Baños de Agua Santa ofrece deportes de aventura como rafting Ideal para el próximo feriado.', 'Documento 408: Montañita se llena de surfistas durante los feriados', 'Documento 409: El volcán Cotopaxi es un destino de senderismo popular Ideal para el próximo feriado.', 'Documento 411: Mindo es famoso por el avistamiento de aves Ideal para el próximo feriado.', 'Documento 412: Montañita se llena de surfistas durante los feriados Un lugar auténtico para visitar.', 'Documento 420: Durante el feriado, muchos visitan la Amazonía ecuatoriana', 'Documento 421: Montañita se llena de surfistas durante los feriados', 'Documento 428: Guayaquil sorprende con su Malecón 2000 y vida nocturna Ideal para el próximo feriado.', 'Documento 436: Mindo es famoso por el avistamiento de aves Ideal para el próximo feriado.', 'Documento 439: La Laguna Quilotoa destaca por su color turquesa Ideal para el próximo feriado.', 'Documento 440: Durante el feriado, muchos visitan la Amazonía ecuatoriana Ideal para el próximo feriado.', 'Documento 442: Las Islas Galápagos atraen visitantes por su biodiversidad única Ideal para el próximo feriado.', 'Documento 446: El volcán Cotopaxi es un destino de senderismo popular Ideal para el próximo feriado.', 'Documento 447: El volcán Cotopaxi es un destino de senderismo popular Ideal para el próximo feriado.', 'Documento 449: Montañita se llena de surfistas durante los feriados Perfecto para canopy.', 'Documento 450: Montañita se llena de surfistas durante los feriados Ideal para el próximo feriado.', 'Documento 456: El Parque Nacional Cajas invita a caminatas entre lagunas Ideal para el próximo feriado.', 'Documento 458: Ecuador es un país megadiverso, ideal para el turismo ecológico Ideal para el próximo feriado.', 'Documento 469: Cuenca deslumbra con su arquitectura colonial y gastronomía Ideal para el próximo feriado.', 'Documento 472: Los turistas disfrutan las fiestas y gastronomía típica local Ideal para el próximo feriado.', 'Documento 473: Cuenca deslumbra con su arquitectura colonial y gastronomía Ideal para el próximo feriado.', 'Documento 474: Durante el feriado, muchos visitan la Amazonía ecuatoriana Un lugar increíble para visitar.', 'Documento 475: Montañita se llena de surfistas durante los feriados Una experiencia inolvidable.', 'Documento 479: La Ruta del Spondylus conecta playas famosas como Montañita Ideal para el próximo feriado.', 'Documento 481: El volcán Cotopaxi es un destino de senderismo popular Ideal para el próximo feriado.', 'Documento 482: Montañita se llena de surfistas durante los feriados Una experiencia inolvidable.', 'Documento 486: Quito tiene un centro histórico Patrimonio de la Humanidad Ideal para el próximo feriado.', 'Documento 491: Ecuador es un país megadiverso, ideal para el turismo ecológico Ideal para el próximo feriado.', 'Documento 492: Montañita se llena de surfistas durante los feriados Perfecto para senderismo.', 'Documento 493: Montañita se llena de surfistas durante los feriados Ideal para el próximo feriado.', 'Documento 494: Vilcabamba atrae visitantes interesados en longevidad y naturaleza Ideal para el próximo feriado.']\n",
      "['Documento 19: La Ruta del Spondylus conecta playas famosas como Montañita', 'Documento 27: La Ruta del Spondylus conecta playas famosas como Montañita Un lugar auténtico para visitar.', 'Documento 35: La Ruta del Spondylus conecta playas famosas como Montañita Ideal para el próximo feriado.', 'Documento 50: La Ruta del Spondylus conecta playas famosas como Montañita Perfecto para rafting.', 'Documento 66: La Ruta del Spondylus conecta playas famosas como Montañita Una experiencia inolvidable.', 'Documento 68: La Ruta del Spondylus conecta playas famosas como Montañita Una experiencia inolvidable.', 'Documento 78: La Ruta del Spondylus conecta playas famosas como Montañita Ideal para el próximo feriado.', 'Documento 82: La Ruta del Spondylus conecta playas famosas como Montañita', 'Documento 86: La Ruta del Spondylus conecta playas famosas como Montañita', 'Documento 95: La Ruta del Spondylus conecta playas famosas como Montañita', 'Documento 99: La Ruta del Spondylus conecta playas famosas como Montañita Perfecto para senderismo.', 'Documento 102: La Ruta del Spondylus conecta playas famosas como Montañita Un lugar increíble para visitar.', 'Documento 119: La Ruta del Spondylus conecta playas famosas como Montañita', 'Documento 123: La Ruta del Spondylus conecta playas famosas como Montañita Ideal para el próximo feriado.', 'Documento 134: La Ruta del Spondylus conecta playas famosas como Montañita Perfecto para canopy.', 'Documento 150: La Ruta del Spondylus conecta playas famosas como Montañita', 'Documento 163: La Ruta del Spondylus conecta playas famosas como Montañita Perfecto para surf.', 'Documento 169: La Ruta del Spondylus conecta playas famosas como Montañita Ideal para el próximo feriado.', 'Documento 197: La Ruta del Spondylus conecta playas famosas como Montañita Una experiencia inolvidable.', 'Documento 218: La Ruta del Spondylus conecta playas famosas como Montañita Perfecto para avistamiento de aves.', 'Documento 228: La Ruta del Spondylus conecta playas famosas como Montañita Ideal para el próximo feriado.', 'Documento 232: La Ruta del Spondylus conecta playas famosas como Montañita Ideal para el próximo feriado.', 'Documento 234: La Ruta del Spondylus conecta playas famosas como Montañita Una experiencia inolvidable.', 'Documento 235: La Ruta del Spondylus conecta playas famosas como Montañita Un lugar tranquilo para visitar.', 'Documento 238: La Ruta del Spondylus conecta playas famosas como Montañita Un lugar sorprendente para visitar.', 'Documento 243: La Ruta del Spondylus conecta playas famosas como Montañita Un lugar auténtico para visitar.', 'Documento 265: La Ruta del Spondylus conecta playas famosas como Montañita Un lugar increíble para visitar.', 'Documento 272: La Ruta del Spondylus conecta playas famosas como Montañita Una experiencia inolvidable.', 'Documento 276: La Ruta del Spondylus conecta playas famosas como Montañita Un lugar auténtico para visitar.', 'Documento 297: La Ruta del Spondylus conecta playas famosas como Montañita Perfecto para rafting.', 'Documento 298: La Ruta del Spondylus conecta playas famosas como Montañita Un lugar famoso para visitar.', 'Documento 320: La Ruta del Spondylus conecta playas famosas como Montañita Ideal para el próximo feriado.', 'Documento 321: La Ruta del Spondylus conecta playas famosas como Montañita Perfecto para rafting.', 'Documento 326: La Ruta del Spondylus conecta playas famosas como Montañita Una experiencia inolvidable.', 'Documento 327: La Ruta del Spondylus conecta playas famosas como Montañita Ideal para el próximo feriado.', 'Documento 369: La Ruta del Spondylus conecta playas famosas como Montañita Perfecto para avistamiento de aves.', 'Documento 383: La Ruta del Spondylus conecta playas famosas como Montañita Perfecto para rafting.', 'Documento 389: La Ruta del Spondylus conecta playas famosas como Montañita Ideal para el próximo feriado.', 'Documento 395: La Ruta del Spondylus conecta playas famosas como Montañita', 'Documento 404: La Ruta del Spondylus conecta playas famosas como Montañita Un lugar sorprendente para visitar.', 'Documento 405: La Ruta del Spondylus conecta playas famosas como Montañita Ideal para el próximo feriado.', 'Documento 416: La Ruta del Spondylus conecta playas famosas como Montañita Perfecto para canopy.', 'Documento 418: La Ruta del Spondylus conecta playas famosas como Montañita', 'Documento 422: La Ruta del Spondylus conecta playas famosas como Montañita Un lugar tranquilo para visitar.', 'Documento 429: La Ruta del Spondylus conecta playas famosas como Montañita', 'Documento 466: La Ruta del Spondylus conecta playas famosas como Montañita Perfecto para rafting.', 'Documento 479: La Ruta del Spondylus conecta playas famosas como Montañita Ideal para el próximo feriado.']\n",
      "['Documento 37: Baños de Agua Santa ofrece deportes de aventura como rafting Un lugar sorprendente para visitar.', 'Documento 53: Baños de Agua Santa ofrece deportes de aventura como rafting Un lugar famoso para visitar.', 'Documento 61: Baños de Agua Santa ofrece deportes de aventura como rafting Una experiencia inolvidable.', 'Documento 76: Baños de Agua Santa ofrece deportes de aventura como rafting Un lugar famoso para visitar.', 'Documento 84: Baños de Agua Santa ofrece deportes de aventura como rafting Una experiencia inolvidable.', 'Documento 89: Baños de Agua Santa ofrece deportes de aventura como rafting Perfecto para canopy.', 'Documento 90: Baños de Agua Santa ofrece deportes de aventura como rafting Ideal para el próximo feriado.', 'Documento 96: Baños de Agua Santa ofrece deportes de aventura como rafting Perfecto para avistamiento de aves.', 'Documento 98: Baños de Agua Santa ofrece deportes de aventura como rafting Perfecto para canopy.', 'Documento 201: Baños de Agua Santa ofrece deportes de aventura como rafting Ideal para el próximo feriado.', 'Documento 248: Baños de Agua Santa ofrece deportes de aventura como rafting', 'Documento 254: Baños de Agua Santa ofrece deportes de aventura como rafting', 'Documento 275: Baños de Agua Santa ofrece deportes de aventura como rafting Perfecto para senderismo.', 'Documento 277: Baños de Agua Santa ofrece deportes de aventura como rafting', 'Documento 283: Baños de Agua Santa ofrece deportes de aventura como rafting', 'Documento 310: Baños de Agua Santa ofrece deportes de aventura como rafting Ideal para el próximo feriado.', 'Documento 313: Baños de Agua Santa ofrece deportes de aventura como rafting Una experiencia inolvidable.', 'Documento 329: Baños de Agua Santa ofrece deportes de aventura como rafting Una experiencia inolvidable.', 'Documento 331: Baños de Agua Santa ofrece deportes de aventura como rafting Una experiencia inolvidable.', 'Documento 336: Baños de Agua Santa ofrece deportes de aventura como rafting Ideal para el próximo feriado.', 'Documento 338: Baños de Agua Santa ofrece deportes de aventura como rafting', 'Documento 376: Baños de Agua Santa ofrece deportes de aventura como rafting Ideal para el próximo feriado.', 'Documento 388: Baños de Agua Santa ofrece deportes de aventura como rafting Perfecto para surf.', 'Documento 391: Baños de Agua Santa ofrece deportes de aventura como rafting', 'Documento 407: Baños de Agua Santa ofrece deportes de aventura como rafting Ideal para el próximo feriado.', 'Documento 438: Baños de Agua Santa ofrece deportes de aventura como rafting Una experiencia inolvidable.', 'Documento 480: Baños de Agua Santa ofrece deportes de aventura como rafting', 'Documento 483: Baños de Agua Santa ofrece deportes de aventura como rafting Perfecto para canopy.', 'Documento 484: Baños de Agua Santa ofrece deportes de aventura como rafting Un lugar famoso para visitar.', 'Documento 489: Baños de Agua Santa ofrece deportes de aventura como rafting Una experiencia inolvidable.', 'Documento 497: Baños de Agua Santa ofrece deportes de aventura como rafting Un lugar tranquilo para visitar.', 'Documento 499: Baños de Agua Santa ofrece deportes de aventura como rafting Perfecto para canopy.']\n",
      "['Documento 11: Las Islas Galápagos atraen visitantes por su biodiversidad única Ideal para el próximo feriado.', 'Documento 22: Las Islas Galápagos atraen visitantes por su biodiversidad única', 'Documento 23: Las Islas Galápagos atraen visitantes por su biodiversidad única Una experiencia inolvidable.', 'Documento 24: Las Islas Galápagos atraen visitantes por su biodiversidad única Una experiencia inolvidable.', 'Documento 30: Las Islas Galápagos atraen visitantes por su biodiversidad única Una experiencia inolvidable.', 'Documento 41: Las Islas Galápagos atraen visitantes por su biodiversidad única', 'Documento 46: Las Islas Galápagos atraen visitantes por su biodiversidad única Un lugar espectacular para visitar.', 'Documento 80: Las Islas Galápagos atraen visitantes por su biodiversidad única', 'Documento 83: Las Islas Galápagos atraen visitantes por su biodiversidad única Un lugar sorprendente para visitar.', 'Documento 93: Las Islas Galápagos atraen visitantes por su biodiversidad única Perfecto para rafting.', 'Documento 124: Las Islas Galápagos atraen visitantes por su biodiversidad única Un lugar sorprendente para visitar.', 'Documento 127: Las Islas Galápagos atraen visitantes por su biodiversidad única Una experiencia inolvidable.', 'Documento 138: Las Islas Galápagos atraen visitantes por su biodiversidad única Ideal para el próximo feriado.', 'Documento 172: Las Islas Galápagos atraen visitantes por su biodiversidad única Perfecto para avistamiento de aves.', 'Documento 226: Las Islas Galápagos atraen visitantes por su biodiversidad única Una experiencia inolvidable.', 'Documento 242: Las Islas Galápagos atraen visitantes por su biodiversidad única Una experiencia inolvidable.', 'Documento 287: Las Islas Galápagos atraen visitantes por su biodiversidad única', 'Documento 294: Las Islas Galápagos atraen visitantes por su biodiversidad única Ideal para el próximo feriado.', 'Documento 303: Las Islas Galápagos atraen visitantes por su biodiversidad única', 'Documento 305: Las Islas Galápagos atraen visitantes por su biodiversidad única Ideal para el próximo feriado.', 'Documento 307: Las Islas Galápagos atraen visitantes por su biodiversidad única Ideal para el próximo feriado.', 'Documento 337: Las Islas Galápagos atraen visitantes por su biodiversidad única Perfecto para avistamiento de aves.', 'Documento 349: Las Islas Galápagos atraen visitantes por su biodiversidad única Un lugar sorprendente para visitar.', 'Documento 358: Las Islas Galápagos atraen visitantes por su biodiversidad única Perfecto para rafting.', 'Documento 393: Las Islas Galápagos atraen visitantes por su biodiversidad única Una experiencia inolvidable.', 'Documento 398: Las Islas Galápagos atraen visitantes por su biodiversidad única', 'Documento 442: Las Islas Galápagos atraen visitantes por su biodiversidad única Ideal para el próximo feriado.', 'Documento 457: Las Islas Galápagos atraen visitantes por su biodiversidad única Perfecto para avistamiento de aves.', 'Documento 460: Las Islas Galápagos atraen visitantes por su biodiversidad única Un lugar sorprendente para visitar.', 'Documento 463: Las Islas Galápagos atraen visitantes por su biodiversidad única Un lugar tranquilo para visitar.', 'Documento 465: Las Islas Galápagos atraen visitantes por su biodiversidad única Un lugar espectacular para visitar.', 'Documento 477: Las Islas Galápagos atraen visitantes por su biodiversidad única Perfecto para avistamiento de aves.', 'Documento 498: Las Islas Galápagos atraen visitantes por su biodiversidad única Perfecto para canopy.']\n",
      "['Documento 3: Quito tiene un centro histórico Patrimonio de la Humanidad Perfecto para surf.', 'Documento 259: Quito tiene un centro histórico Patrimonio de la Humanidad Un lugar auténtico para visitar.', 'Documento 390: Quito tiene un centro histórico Patrimonio de la Humanidad Un lugar tranquilo para visitar.', 'Documento 135: Quito tiene un centro histórico Patrimonio de la Humanidad Perfecto para canopy.', 'Documento 15: Quito tiene un centro histórico Patrimonio de la Humanidad Ideal para el próximo feriado.', 'Documento 16: Quito tiene un centro histórico Patrimonio de la Humanidad Un lugar sorprendente para visitar.', 'Documento 290: Quito tiene un centro histórico Patrimonio de la Humanidad Perfecto para rafting.', 'Documento 38: Quito tiene un centro histórico Patrimonio de la Humanidad Perfecto para rafting.', 'Documento 42: Quito tiene un centro histórico Patrimonio de la Humanidad Perfecto para senderismo.', 'Documento 324: Quito tiene un centro histórico Patrimonio de la Humanidad Ideal para el próximo feriado.', 'Documento 72: Quito tiene un centro histórico Patrimonio de la Humanidad Ideal para el próximo feriado.', 'Documento 200: Quito tiene un centro histórico Patrimonio de la Humanidad Un lugar sorprendente para visitar.', 'Documento 74: Quito tiene un centro histórico Patrimonio de la Humanidad Ideal para el próximo feriado.', 'Documento 212: Quito tiene un centro histórico Patrimonio de la Humanidad Ideal para el próximo feriado.', 'Documento 468: Quito tiene un centro histórico Patrimonio de la Humanidad', 'Documento 88: Quito tiene un centro histórico Patrimonio de la Humanidad', 'Documento 354: Quito tiene un centro histórico Patrimonio de la Humanidad Perfecto para surf.', 'Documento 486: Quito tiene un centro histórico Patrimonio de la Humanidad Ideal para el próximo feriado.', 'Documento 103: Quito tiene un centro histórico Patrimonio de la Humanidad Perfecto para canopy.', 'Documento 237: Quito tiene un centro histórico Patrimonio de la Humanidad Perfecto para senderismo.']\n",
      "['Documento 386: Montañita se llena de surfistas durante los feriados Un lugar auténtico para visitar.', 'Documento 389: La Ruta del Spondylus conecta playas famosas como Montañita Ideal para el próximo feriado.', 'Documento 134: La Ruta del Spondylus conecta playas famosas como Montañita Perfecto para canopy.', 'Documento 265: La Ruta del Spondylus conecta playas famosas como Montañita Un lugar increíble para visitar.', 'Documento 267: Montañita se llena de surfistas durante los feriados', 'Documento 395: La Ruta del Spondylus conecta playas famosas como Montañita', 'Documento 272: La Ruta del Spondylus conecta playas famosas como Montañita Una experiencia inolvidable.', 'Documento 145: Montañita se llena de surfistas durante los feriados', 'Documento 402: Montañita se llena de surfistas durante los feriados', 'Documento 19: La Ruta del Spondylus conecta playas famosas como Montañita', 'Documento 276: La Ruta del Spondylus conecta playas famosas como Montañita Un lugar auténtico para visitar.', 'Documento 404: La Ruta del Spondylus conecta playas famosas como Montañita Un lugar sorprendente para visitar.', 'Documento 150: La Ruta del Spondylus conecta playas famosas como Montañita', 'Documento 405: La Ruta del Spondylus conecta playas famosas como Montañita Ideal para el próximo feriado.', 'Documento 408: Montañita se llena de surfistas durante los feriados', 'Documento 27: La Ruta del Spondylus conecta playas famosas como Montañita Un lugar auténtico para visitar.', 'Documento 412: Montañita se llena de surfistas durante los feriados Un lugar auténtico para visitar.', 'Documento 416: La Ruta del Spondylus conecta playas famosas como Montañita Perfecto para canopy.', 'Documento 418: La Ruta del Spondylus conecta playas famosas como Montañita', 'Documento 35: La Ruta del Spondylus conecta playas famosas como Montañita Ideal para el próximo feriado.', 'Documento 163: La Ruta del Spondylus conecta playas famosas como Montañita Perfecto para surf.', 'Documento 421: Montañita se llena de surfistas durante los feriados', 'Documento 422: La Ruta del Spondylus conecta playas famosas como Montañita Un lugar tranquilo para visitar.', 'Documento 169: La Ruta del Spondylus conecta playas famosas como Montañita Ideal para el próximo feriado.', 'Documento 297: La Ruta del Spondylus conecta playas famosas como Montañita Perfecto para rafting.', 'Documento 298: La Ruta del Spondylus conecta playas famosas como Montañita Un lugar famoso para visitar.', 'Documento 299: Montañita se llena de surfistas durante los feriados Perfecto para surf.', 'Documento 429: La Ruta del Spondylus conecta playas famosas como Montañita', 'Documento 177: Montañita se llena de surfistas durante los feriados Un lugar auténtico para visitar.', 'Documento 50: La Ruta del Spondylus conecta playas famosas como Montañita Perfecto para rafting.', 'Documento 311: Montañita se llena de surfistas durante los feriados Perfecto para surf.', 'Documento 184: Montañita se llena de surfistas durante los feriados Perfecto para canopy.', 'Documento 315: Montañita se llena de surfistas durante los feriados Una experiencia inolvidable.', 'Documento 317: Montañita se llena de surfistas durante los feriados Ideal para el próximo feriado.', 'Documento 320: La Ruta del Spondylus conecta playas famosas como Montañita Ideal para el próximo feriado.', 'Documento 321: La Ruta del Spondylus conecta playas famosas como Montañita Perfecto para rafting.', 'Documento 66: La Ruta del Spondylus conecta playas famosas como Montañita Una experiencia inolvidable.', 'Documento 322: Montañita se llena de surfistas durante los feriados', 'Documento 68: La Ruta del Spondylus conecta playas famosas como Montañita Una experiencia inolvidable.', 'Documento 197: La Ruta del Spondylus conecta playas famosas como Montañita Una experiencia inolvidable.', 'Documento 326: La Ruta del Spondylus conecta playas famosas como Montañita Una experiencia inolvidable.', 'Documento 327: La Ruta del Spondylus conecta playas famosas como Montañita Ideal para el próximo feriado.', 'Documento 449: Montañita se llena de surfistas durante los feriados Perfecto para canopy.', 'Documento 450: Montañita se llena de surfistas durante los feriados Ideal para el próximo feriado.', 'Documento 204: Montañita se llena de surfistas durante los feriados Ideal para el próximo feriado.', 'Documento 78: La Ruta del Spondylus conecta playas famosas como Montañita Ideal para el próximo feriado.', 'Documento 208: Montañita se llena de surfistas durante los feriados Perfecto para rafting.', 'Documento 82: La Ruta del Spondylus conecta playas famosas como Montañita', 'Documento 210: Montañita se llena de surfistas durante los feriados Ideal para el próximo feriado.', 'Documento 466: La Ruta del Spondylus conecta playas famosas como Montañita Perfecto para rafting.', 'Documento 86: La Ruta del Spondylus conecta playas famosas como Montañita', 'Documento 87: Montañita se llena de surfistas durante los feriados Un lugar espectacular para visitar.', 'Documento 218: La Ruta del Spondylus conecta playas famosas como Montañita Perfecto para avistamiento de aves.', 'Documento 475: Montañita se llena de surfistas durante los feriados Una experiencia inolvidable.', 'Documento 95: La Ruta del Spondylus conecta playas famosas como Montañita', 'Documento 479: La Ruta del Spondylus conecta playas famosas como Montañita Ideal para el próximo feriado.', 'Documento 482: Montañita se llena de surfistas durante los feriados Una experiencia inolvidable.', 'Documento 99: La Ruta del Spondylus conecta playas famosas como Montañita Perfecto para senderismo.', 'Documento 228: La Ruta del Spondylus conecta playas famosas como Montañita Ideal para el próximo feriado.', 'Documento 102: La Ruta del Spondylus conecta playas famosas como Montañita Un lugar increíble para visitar.', 'Documento 232: La Ruta del Spondylus conecta playas famosas como Montañita Ideal para el próximo feriado.', 'Documento 106: Montañita se llena de surfistas durante los feriados Perfecto para surf.', 'Documento 234: La Ruta del Spondylus conecta playas famosas como Montañita Una experiencia inolvidable.', 'Documento 235: La Ruta del Spondylus conecta playas famosas como Montañita Un lugar tranquilo para visitar.', 'Documento 492: Montañita se llena de surfistas durante los feriados Perfecto para senderismo.', 'Documento 238: La Ruta del Spondylus conecta playas famosas como Montañita Un lugar sorprendente para visitar.', 'Documento 493: Montañita se llena de surfistas durante los feriados Ideal para el próximo feriado.', 'Documento 369: La Ruta del Spondylus conecta playas famosas como Montañita Perfecto para avistamiento de aves.', 'Documento 243: La Ruta del Spondylus conecta playas famosas como Montañita Un lugar auténtico para visitar.', 'Documento 119: La Ruta del Spondylus conecta playas famosas como Montañita', 'Documento 123: La Ruta del Spondylus conecta playas famosas como Montañita Ideal para el próximo feriado.', 'Documento 380: Montañita se llena de surfistas durante los feriados Una experiencia inolvidable.', 'Documento 125: Montañita se llena de surfistas durante los feriados Una experiencia inolvidable.', 'Documento 383: La Ruta del Spondylus conecta playas famosas como Montañita Perfecto para rafting.']\n",
      "['Documento 8: El Parque Nacional Cajas invita a caminatas entre lagunas Ideal para el próximo feriado.', 'Documento 9: Mindo es famoso por el avistamiento de aves Ideal para el próximo feriado.', 'Documento 11: Las Islas Galápagos atraen visitantes por su biodiversidad única Ideal para el próximo feriado.', 'Documento 15: Quito tiene un centro histórico Patrimonio de la Humanidad Ideal para el próximo feriado.', 'Documento 26: Durante el feriado, muchos visitan la Amazonía ecuatoriana Perfecto para rafting.', 'Documento 29: Ecuador es un país megadiverso, ideal para el turismo ecológico Ideal para el próximo feriado.', 'Documento 31: Mindo es famoso por el avistamiento de aves Ideal para el próximo feriado.', 'Documento 32: El volcán Cotopaxi es un destino de senderismo popular Ideal para el próximo feriado.', 'Documento 33: Otavalo es conocido por su mercado indígena y su artesanía Ideal para el próximo feriado.', 'Documento 34: La Laguna Quilotoa destaca por su color turquesa Ideal para el próximo feriado.', 'Documento 35: La Ruta del Spondylus conecta playas famosas como Montañita Ideal para el próximo feriado.', 'Documento 39: Vilcabamba atrae visitantes interesados en longevidad y naturaleza Ideal para el próximo feriado.', 'Documento 43: Durante el feriado, muchos visitan la Amazonía ecuatoriana Un lugar increíble para visitar.', 'Documento 49: Los turistas disfrutan las fiestas y gastronomía típica local Ideal para el próximo feriado.', 'Documento 55: Durante el feriado, muchos visitan la Amazonía ecuatoriana Ideal para el próximo feriado.', 'Documento 64: Otavalo es conocido por su mercado indígena y su artesanía Ideal para el próximo feriado.', 'Documento 65: La Laguna Quilotoa destaca por su color turquesa Ideal para el próximo feriado.', 'Documento 69: Durante el feriado, muchos visitan la Amazonía ecuatoriana Un lugar tranquilo para visitar.', 'Documento 72: Quito tiene un centro histórico Patrimonio de la Humanidad Ideal para el próximo feriado.', 'Documento 74: Quito tiene un centro histórico Patrimonio de la Humanidad Ideal para el próximo feriado.', 'Documento 78: La Ruta del Spondylus conecta playas famosas como Montañita Ideal para el próximo feriado.', 'Documento 79: Guayaquil sorprende con su Malecón 2000 y vida nocturna Ideal para el próximo feriado.', 'Documento 90: Baños de Agua Santa ofrece deportes de aventura como rafting Ideal para el próximo feriado.', 'Documento 105: El volcán Cotopaxi es un destino de senderismo popular Ideal para el próximo feriado.', 'Documento 107: Los turistas disfrutan las fiestas y gastronomía típica local Ideal para el próximo feriado.', 'Documento 108: Ecuador es un país megadiverso, ideal para el turismo ecológico Ideal para el próximo feriado.', 'Documento 109: Ecuador es un país megadiverso, ideal para el turismo ecológico Ideal para el próximo feriado.', 'Documento 112: Durante el feriado, muchos visitan la Amazonía ecuatoriana Perfecto para rafting.', 'Documento 115: Guayaquil sorprende con su Malecón 2000 y vida nocturna Ideal para el próximo feriado.', 'Documento 122: Guayaquil sorprende con su Malecón 2000 y vida nocturna Ideal para el próximo feriado.', 'Documento 123: La Ruta del Spondylus conecta playas famosas como Montañita Ideal para el próximo feriado.', 'Documento 129: Ecuador es un país megadiverso, ideal para el turismo ecológico Ideal para el próximo feriado.', 'Documento 131: Durante el feriado, muchos visitan la Amazonía ecuatoriana Perfecto para avistamiento de aves.', 'Documento 132: Durante el feriado, muchos visitan la Amazonía ecuatoriana', 'Documento 133: Cuenca deslumbra con su arquitectura colonial y gastronomía Ideal para el próximo feriado.', 'Documento 137: Mindo es famoso por el avistamiento de aves Ideal para el próximo feriado.', 'Documento 138: Las Islas Galápagos atraen visitantes por su biodiversidad única Ideal para el próximo feriado.', 'Documento 146: Guayaquil sorprende con su Malecón 2000 y vida nocturna Ideal para el próximo feriado.', 'Documento 147: Vilcabamba atrae visitantes interesados en longevidad y naturaleza Ideal para el próximo feriado.', 'Documento 152: Durante el feriado, muchos visitan la Amazonía ecuatoriana Perfecto para surf.', 'Documento 153: Mindo es famoso por el avistamiento de aves Ideal para el próximo feriado.', 'Documento 154: Cuenca deslumbra con su arquitectura colonial y gastronomía Ideal para el próximo feriado.', 'Documento 156: La Laguna Quilotoa destaca por su color turquesa Ideal para el próximo feriado.', 'Documento 161: Durante el feriado, muchos visitan la Amazonía ecuatoriana Ideal para el próximo feriado.', 'Documento 165: Vilcabamba atrae visitantes interesados en longevidad y naturaleza Ideal para el próximo feriado.', 'Documento 166: Durante el feriado, muchos visitan la Amazonía ecuatoriana Un lugar auténtico para visitar.', 'Documento 167: Ecuador es un país megadiverso, ideal para el turismo ecológico Ideal para el próximo feriado.', 'Documento 169: La Ruta del Spondylus conecta playas famosas como Montañita Ideal para el próximo feriado.', 'Documento 178: Durante el feriado, muchos visitan la Amazonía ecuatoriana Ideal para el próximo feriado.', 'Documento 180: El Parque Nacional Cajas invita a caminatas entre lagunas Ideal para el próximo feriado.', 'Documento 188: Durante el feriado, muchos visitan la Amazonía ecuatoriana Una experiencia inolvidable.', 'Documento 191: El Parque Nacional Cajas invita a caminatas entre lagunas Ideal para el próximo feriado.', 'Documento 193: El Parque Nacional Cajas invita a caminatas entre lagunas Ideal para el próximo feriado.', 'Documento 194: El Parque Nacional Cajas invita a caminatas entre lagunas Ideal para el próximo feriado.', 'Documento 198: Guayaquil sorprende con su Malecón 2000 y vida nocturna Ideal para el próximo feriado.', 'Documento 199: Ecuador es un país megadiverso, ideal para el turismo ecológico Ideal para el próximo feriado.', 'Documento 201: Baños de Agua Santa ofrece deportes de aventura como rafting Ideal para el próximo feriado.', 'Documento 202: Durante el feriado, muchos visitan la Amazonía ecuatoriana Ideal para el próximo feriado.', 'Documento 204: Montañita se llena de surfistas durante los feriados Ideal para el próximo feriado.', 'Documento 209: Durante el feriado, muchos visitan la Amazonía ecuatoriana', 'Documento 210: Montañita se llena de surfistas durante los feriados Ideal para el próximo feriado.', 'Documento 212: Quito tiene un centro histórico Patrimonio de la Humanidad Ideal para el próximo feriado.', 'Documento 216: El Parque Nacional Cajas invita a caminatas entre lagunas Ideal para el próximo feriado.', 'Documento 222: El volcán Cotopaxi es un destino de senderismo popular Ideal para el próximo feriado.', 'Documento 224: Ecuador es un país megadiverso, ideal para el turismo ecológico Ideal para el próximo feriado.', 'Documento 228: La Ruta del Spondylus conecta playas famosas como Montañita Ideal para el próximo feriado.', 'Documento 232: La Ruta del Spondylus conecta playas famosas como Montañita Ideal para el próximo feriado.', 'Documento 233: Guayaquil sorprende con su Malecón 2000 y vida nocturna Ideal para el próximo feriado.', 'Documento 247: Mindo es famoso por el avistamiento de aves Ideal para el próximo feriado.', 'Documento 256: Durante el feriado, muchos visitan la Amazonía ecuatoriana Una experiencia inolvidable.', 'Documento 261: Durante el feriado, muchos visitan la Amazonía ecuatoriana Ideal para el próximo feriado.', 'Documento 266: El Parque Nacional Cajas invita a caminatas entre lagunas Ideal para el próximo feriado.', 'Documento 268: Vilcabamba atrae visitantes interesados en longevidad y naturaleza Ideal para el próximo feriado.', 'Documento 270: Mindo es famoso por el avistamiento de aves Ideal para el próximo feriado.', 'Documento 279: Ecuador es un país megadiverso, ideal para el turismo ecológico Ideal para el próximo feriado.', 'Documento 280: El Parque Nacional Cajas invita a caminatas entre lagunas Ideal para el próximo feriado.', 'Documento 281: Los turistas disfrutan las fiestas y gastronomía típica local Ideal para el próximo feriado.', 'Documento 285: Los turistas disfrutan las fiestas y gastronomía típica local Ideal para el próximo feriado.', 'Documento 294: Las Islas Galápagos atraen visitantes por su biodiversidad única Ideal para el próximo feriado.', 'Documento 302: Los turistas disfrutan las fiestas y gastronomía típica local Ideal para el próximo feriado.', 'Documento 305: Las Islas Galápagos atraen visitantes por su biodiversidad única Ideal para el próximo feriado.', 'Documento 307: Las Islas Galápagos atraen visitantes por su biodiversidad única Ideal para el próximo feriado.', 'Documento 308: El volcán Cotopaxi es un destino de senderismo popular Ideal para el próximo feriado.', 'Documento 309: Durante el feriado, muchos visitan la Amazonía ecuatoriana Un lugar tranquilo para visitar.', 'Documento 310: Baños de Agua Santa ofrece deportes de aventura como rafting Ideal para el próximo feriado.', 'Documento 314: Durante el feriado, muchos visitan la Amazonía ecuatoriana Un lugar sorprendente para visitar.', 'Documento 317: Montañita se llena de surfistas durante los feriados Ideal para el próximo feriado.', 'Documento 320: La Ruta del Spondylus conecta playas famosas como Montañita Ideal para el próximo feriado.', 'Documento 324: Quito tiene un centro histórico Patrimonio de la Humanidad Ideal para el próximo feriado.', 'Documento 327: La Ruta del Spondylus conecta playas famosas como Montañita Ideal para el próximo feriado.', 'Documento 328: Durante el feriado, muchos visitan la Amazonía ecuatoriana Un lugar tranquilo para visitar.', 'Documento 330: Mindo es famoso por el avistamiento de aves Ideal para el próximo feriado.', 'Documento 332: Ecuador es un país megadiverso, ideal para el turismo ecológico Ideal para el próximo feriado.', 'Documento 336: Baños de Agua Santa ofrece deportes de aventura como rafting Ideal para el próximo feriado.', 'Documento 339: Otavalo es conocido por su mercado indígena y su artesanía Ideal para el próximo feriado.', 'Documento 341: Otavalo es conocido por su mercado indígena y su artesanía Ideal para el próximo feriado.', 'Documento 343: Cuenca deslumbra con su arquitectura colonial y gastronomía Ideal para el próximo feriado.', 'Documento 345: Durante el feriado, muchos visitan la Amazonía ecuatoriana Ideal para el próximo feriado.', 'Documento 350: Otavalo es conocido por su mercado indígena y su artesanía Ideal para el próximo feriado.', 'Documento 353: Durante el feriado, muchos visitan la Amazonía ecuatoriana', 'Documento 359: Durante el feriado, muchos visitan la Amazonía ecuatoriana Una experiencia inolvidable.', 'Documento 360: El Parque Nacional Cajas invita a caminatas entre lagunas Ideal para el próximo feriado.', 'Documento 361: El Parque Nacional Cajas invita a caminatas entre lagunas Ideal para el próximo feriado.', 'Documento 364: Mindo es famoso por el avistamiento de aves Ideal para el próximo feriado.', 'Documento 368: Guayaquil sorprende con su Malecón 2000 y vida nocturna Ideal para el próximo feriado.', 'Documento 371: Durante el feriado, muchos visitan la Amazonía ecuatoriana Un lugar tranquilo para visitar.', 'Documento 373: Durante el feriado, muchos visitan la Amazonía ecuatoriana', 'Documento 374: El Parque Nacional Cajas invita a caminatas entre lagunas Ideal para el próximo feriado.', 'Documento 376: Baños de Agua Santa ofrece deportes de aventura como rafting Ideal para el próximo feriado.', 'Documento 379: Otavalo es conocido por su mercado indígena y su artesanía Ideal para el próximo feriado.', 'Documento 382: Ecuador es un país megadiverso, ideal para el turismo ecológico Ideal para el próximo feriado.', 'Documento 389: La Ruta del Spondylus conecta playas famosas como Montañita Ideal para el próximo feriado.', 'Documento 394: Los turistas disfrutan las fiestas y gastronomía típica local Ideal para el próximo feriado.', 'Documento 405: La Ruta del Spondylus conecta playas famosas como Montañita Ideal para el próximo feriado.', 'Documento 407: Baños de Agua Santa ofrece deportes de aventura como rafting Ideal para el próximo feriado.', 'Documento 409: El volcán Cotopaxi es un destino de senderismo popular Ideal para el próximo feriado.', 'Documento 411: Mindo es famoso por el avistamiento de aves Ideal para el próximo feriado.', 'Documento 420: Durante el feriado, muchos visitan la Amazonía ecuatoriana', 'Documento 428: Guayaquil sorprende con su Malecón 2000 y vida nocturna Ideal para el próximo feriado.', 'Documento 436: Mindo es famoso por el avistamiento de aves Ideal para el próximo feriado.', 'Documento 439: La Laguna Quilotoa destaca por su color turquesa Ideal para el próximo feriado.', 'Documento 440: Durante el feriado, muchos visitan la Amazonía ecuatoriana Ideal para el próximo feriado.', 'Documento 442: Las Islas Galápagos atraen visitantes por su biodiversidad única Ideal para el próximo feriado.', 'Documento 446: El volcán Cotopaxi es un destino de senderismo popular Ideal para el próximo feriado.', 'Documento 447: El volcán Cotopaxi es un destino de senderismo popular Ideal para el próximo feriado.', 'Documento 450: Montañita se llena de surfistas durante los feriados Ideal para el próximo feriado.', 'Documento 456: El Parque Nacional Cajas invita a caminatas entre lagunas Ideal para el próximo feriado.', 'Documento 458: Ecuador es un país megadiverso, ideal para el turismo ecológico Ideal para el próximo feriado.', 'Documento 469: Cuenca deslumbra con su arquitectura colonial y gastronomía Ideal para el próximo feriado.', 'Documento 472: Los turistas disfrutan las fiestas y gastronomía típica local Ideal para el próximo feriado.', 'Documento 473: Cuenca deslumbra con su arquitectura colonial y gastronomía Ideal para el próximo feriado.', 'Documento 474: Durante el feriado, muchos visitan la Amazonía ecuatoriana Un lugar increíble para visitar.', 'Documento 479: La Ruta del Spondylus conecta playas famosas como Montañita Ideal para el próximo feriado.', 'Documento 481: El volcán Cotopaxi es un destino de senderismo popular Ideal para el próximo feriado.', 'Documento 486: Quito tiene un centro histórico Patrimonio de la Humanidad Ideal para el próximo feriado.', 'Documento 491: Ecuador es un país megadiverso, ideal para el turismo ecológico Ideal para el próximo feriado.', 'Documento 493: Montañita se llena de surfistas durante los feriados Ideal para el próximo feriado.', 'Documento 494: Vilcabamba atrae visitantes interesados en longevidad y naturaleza Ideal para el próximo feriado.']\n",
      "['Documento 389: La Ruta del Spondylus conecta playas famosas como Montañita Ideal para el próximo feriado.', 'Documento 134: La Ruta del Spondylus conecta playas famosas como Montañita Perfecto para canopy.', 'Documento 265: La Ruta del Spondylus conecta playas famosas como Montañita Un lugar increíble para visitar.', 'Documento 395: La Ruta del Spondylus conecta playas famosas como Montañita', 'Documento 272: La Ruta del Spondylus conecta playas famosas como Montañita Una experiencia inolvidable.', 'Documento 19: La Ruta del Spondylus conecta playas famosas como Montañita', 'Documento 276: La Ruta del Spondylus conecta playas famosas como Montañita Un lugar auténtico para visitar.', 'Documento 404: La Ruta del Spondylus conecta playas famosas como Montañita Un lugar sorprendente para visitar.', 'Documento 150: La Ruta del Spondylus conecta playas famosas como Montañita', 'Documento 405: La Ruta del Spondylus conecta playas famosas como Montañita Ideal para el próximo feriado.', 'Documento 27: La Ruta del Spondylus conecta playas famosas como Montañita Un lugar auténtico para visitar.', 'Documento 416: La Ruta del Spondylus conecta playas famosas como Montañita Perfecto para canopy.', 'Documento 418: La Ruta del Spondylus conecta playas famosas como Montañita', 'Documento 35: La Ruta del Spondylus conecta playas famosas como Montañita Ideal para el próximo feriado.', 'Documento 163: La Ruta del Spondylus conecta playas famosas como Montañita Perfecto para surf.', 'Documento 422: La Ruta del Spondylus conecta playas famosas como Montañita Un lugar tranquilo para visitar.', 'Documento 169: La Ruta del Spondylus conecta playas famosas como Montañita Ideal para el próximo feriado.', 'Documento 297: La Ruta del Spondylus conecta playas famosas como Montañita Perfecto para rafting.', 'Documento 298: La Ruta del Spondylus conecta playas famosas como Montañita Un lugar famoso para visitar.', 'Documento 429: La Ruta del Spondylus conecta playas famosas como Montañita', 'Documento 50: La Ruta del Spondylus conecta playas famosas como Montañita Perfecto para rafting.', 'Documento 320: La Ruta del Spondylus conecta playas famosas como Montañita Ideal para el próximo feriado.', 'Documento 321: La Ruta del Spondylus conecta playas famosas como Montañita Perfecto para rafting.', 'Documento 66: La Ruta del Spondylus conecta playas famosas como Montañita Una experiencia inolvidable.', 'Documento 68: La Ruta del Spondylus conecta playas famosas como Montañita Una experiencia inolvidable.', 'Documento 197: La Ruta del Spondylus conecta playas famosas como Montañita Una experiencia inolvidable.', 'Documento 326: La Ruta del Spondylus conecta playas famosas como Montañita Una experiencia inolvidable.', 'Documento 327: La Ruta del Spondylus conecta playas famosas como Montañita Ideal para el próximo feriado.', 'Documento 78: La Ruta del Spondylus conecta playas famosas como Montañita Ideal para el próximo feriado.', 'Documento 82: La Ruta del Spondylus conecta playas famosas como Montañita', 'Documento 466: La Ruta del Spondylus conecta playas famosas como Montañita Perfecto para rafting.', 'Documento 86: La Ruta del Spondylus conecta playas famosas como Montañita', 'Documento 218: La Ruta del Spondylus conecta playas famosas como Montañita Perfecto para avistamiento de aves.', 'Documento 95: La Ruta del Spondylus conecta playas famosas como Montañita', 'Documento 479: La Ruta del Spondylus conecta playas famosas como Montañita Ideal para el próximo feriado.', 'Documento 99: La Ruta del Spondylus conecta playas famosas como Montañita Perfecto para senderismo.', 'Documento 228: La Ruta del Spondylus conecta playas famosas como Montañita Ideal para el próximo feriado.', 'Documento 102: La Ruta del Spondylus conecta playas famosas como Montañita Un lugar increíble para visitar.', 'Documento 232: La Ruta del Spondylus conecta playas famosas como Montañita Ideal para el próximo feriado.', 'Documento 234: La Ruta del Spondylus conecta playas famosas como Montañita Una experiencia inolvidable.', 'Documento 235: La Ruta del Spondylus conecta playas famosas como Montañita Un lugar tranquilo para visitar.', 'Documento 238: La Ruta del Spondylus conecta playas famosas como Montañita Un lugar sorprendente para visitar.', 'Documento 369: La Ruta del Spondylus conecta playas famosas como Montañita Perfecto para avistamiento de aves.', 'Documento 243: La Ruta del Spondylus conecta playas famosas como Montañita Un lugar auténtico para visitar.', 'Documento 119: La Ruta del Spondylus conecta playas famosas como Montañita', 'Documento 123: La Ruta del Spondylus conecta playas famosas como Montañita Ideal para el próximo feriado.', 'Documento 383: La Ruta del Spondylus conecta playas famosas como Montañita Perfecto para rafting.']\n",
      "['Documento 388: Baños de Agua Santa ofrece deportes de aventura como rafting Perfecto para surf.', 'Documento 391: Baños de Agua Santa ofrece deportes de aventura como rafting', 'Documento 275: Baños de Agua Santa ofrece deportes de aventura como rafting Perfecto para senderismo.', 'Documento 277: Baños de Agua Santa ofrece deportes de aventura como rafting', 'Documento 407: Baños de Agua Santa ofrece deportes de aventura como rafting Ideal para el próximo feriado.', 'Documento 283: Baños de Agua Santa ofrece deportes de aventura como rafting', 'Documento 37: Baños de Agua Santa ofrece deportes de aventura como rafting Un lugar sorprendente para visitar.', 'Documento 53: Baños de Agua Santa ofrece deportes de aventura como rafting Un lugar famoso para visitar.', 'Documento 310: Baños de Agua Santa ofrece deportes de aventura como rafting Ideal para el próximo feriado.', 'Documento 438: Baños de Agua Santa ofrece deportes de aventura como rafting Una experiencia inolvidable.', 'Documento 313: Baños de Agua Santa ofrece deportes de aventura como rafting Una experiencia inolvidable.', 'Documento 61: Baños de Agua Santa ofrece deportes de aventura como rafting Una experiencia inolvidable.', 'Documento 201: Baños de Agua Santa ofrece deportes de aventura como rafting Ideal para el próximo feriado.', 'Documento 329: Baños de Agua Santa ofrece deportes de aventura como rafting Una experiencia inolvidable.', 'Documento 331: Baños de Agua Santa ofrece deportes de aventura como rafting Una experiencia inolvidable.', 'Documento 76: Baños de Agua Santa ofrece deportes de aventura como rafting Un lugar famoso para visitar.', 'Documento 336: Baños de Agua Santa ofrece deportes de aventura como rafting Ideal para el próximo feriado.', 'Documento 338: Baños de Agua Santa ofrece deportes de aventura como rafting', 'Documento 84: Baños de Agua Santa ofrece deportes de aventura como rafting Una experiencia inolvidable.', 'Documento 89: Baños de Agua Santa ofrece deportes de aventura como rafting Perfecto para canopy.', 'Documento 90: Baños de Agua Santa ofrece deportes de aventura como rafting Ideal para el próximo feriado.', 'Documento 96: Baños de Agua Santa ofrece deportes de aventura como rafting Perfecto para avistamiento de aves.', 'Documento 480: Baños de Agua Santa ofrece deportes de aventura como rafting', 'Documento 98: Baños de Agua Santa ofrece deportes de aventura como rafting Perfecto para canopy.', 'Documento 483: Baños de Agua Santa ofrece deportes de aventura como rafting Perfecto para canopy.', 'Documento 376: Baños de Agua Santa ofrece deportes de aventura como rafting Ideal para el próximo feriado.', 'Documento 484: Baños de Agua Santa ofrece deportes de aventura como rafting Un lugar famoso para visitar.', 'Documento 489: Baños de Agua Santa ofrece deportes de aventura como rafting Una experiencia inolvidable.', 'Documento 497: Baños de Agua Santa ofrece deportes de aventura como rafting Un lugar tranquilo para visitar.', 'Documento 499: Baños de Agua Santa ofrece deportes de aventura como rafting Perfecto para canopy.', 'Documento 248: Baños de Agua Santa ofrece deportes de aventura como rafting', 'Documento 254: Baños de Agua Santa ofrece deportes de aventura como rafting']\n",
      "['Documento 393: Las Islas Galápagos atraen visitantes por su biodiversidad única Una experiencia inolvidable.', 'Documento 138: Las Islas Galápagos atraen visitantes por su biodiversidad única Ideal para el próximo feriado.', 'Documento 11: Las Islas Galápagos atraen visitantes por su biodiversidad única Ideal para el próximo feriado.', 'Documento 398: Las Islas Galápagos atraen visitantes por su biodiversidad única', 'Documento 22: Las Islas Galápagos atraen visitantes por su biodiversidad única', 'Documento 23: Las Islas Galápagos atraen visitantes por su biodiversidad única Una experiencia inolvidable.', 'Documento 24: Las Islas Galápagos atraen visitantes por su biodiversidad única Una experiencia inolvidable.', 'Documento 30: Las Islas Galápagos atraen visitantes por su biodiversidad única Una experiencia inolvidable.', 'Documento 287: Las Islas Galápagos atraen visitantes por su biodiversidad única', 'Documento 294: Las Islas Galápagos atraen visitantes por su biodiversidad única Ideal para el próximo feriado.', 'Documento 41: Las Islas Galápagos atraen visitantes por su biodiversidad única', 'Documento 172: Las Islas Galápagos atraen visitantes por su biodiversidad única Perfecto para avistamiento de aves.', 'Documento 46: Las Islas Galápagos atraen visitantes por su biodiversidad única Un lugar espectacular para visitar.', 'Documento 303: Las Islas Galápagos atraen visitantes por su biodiversidad única', 'Documento 305: Las Islas Galápagos atraen visitantes por su biodiversidad única Ideal para el próximo feriado.', 'Documento 307: Las Islas Galápagos atraen visitantes por su biodiversidad única Ideal para el próximo feriado.', 'Documento 442: Las Islas Galápagos atraen visitantes por su biodiversidad única Ideal para el próximo feriado.', 'Documento 457: Las Islas Galápagos atraen visitantes por su biodiversidad única Perfecto para avistamiento de aves.', 'Documento 460: Las Islas Galápagos atraen visitantes por su biodiversidad única Un lugar sorprendente para visitar.', 'Documento 463: Las Islas Galápagos atraen visitantes por su biodiversidad única Un lugar tranquilo para visitar.', 'Documento 80: Las Islas Galápagos atraen visitantes por su biodiversidad única', 'Documento 337: Las Islas Galápagos atraen visitantes por su biodiversidad única Perfecto para avistamiento de aves.', 'Documento 465: Las Islas Galápagos atraen visitantes por su biodiversidad única Un lugar espectacular para visitar.', 'Documento 83: Las Islas Galápagos atraen visitantes por su biodiversidad única Un lugar sorprendente para visitar.', 'Documento 93: Las Islas Galápagos atraen visitantes por su biodiversidad única Perfecto para rafting.', 'Documento 349: Las Islas Galápagos atraen visitantes por su biodiversidad única Un lugar sorprendente para visitar.', 'Documento 477: Las Islas Galápagos atraen visitantes por su biodiversidad única Perfecto para avistamiento de aves.', 'Documento 226: Las Islas Galápagos atraen visitantes por su biodiversidad única Una experiencia inolvidable.', 'Documento 358: Las Islas Galápagos atraen visitantes por su biodiversidad única Perfecto para rafting.', 'Documento 242: Las Islas Galápagos atraen visitantes por su biodiversidad única Una experiencia inolvidable.', 'Documento 498: Las Islas Galápagos atraen visitantes por su biodiversidad única Perfecto para canopy.', 'Documento 124: Las Islas Galápagos atraen visitantes por su biodiversidad única Un lugar sorprendente para visitar.', 'Documento 127: Las Islas Galápagos atraen visitantes por su biodiversidad única Una experiencia inolvidable.']\n"
     ]
    }
   ],
   "source": [
    "# -------- Corpus grande --------\n",
    "# Búsqueda lineal\n",
    "tiempos_lineal_grande = medir_tiempo_busqueda_lineal(corpus_grande, querys)\n",
    "\n",
    "# Índice invertido\n",
    "indice_grande, documentos_grande = construir_indice_invertido(corpus_grande)\n",
    "tiempos_indice_grande = medir_tiempo_busqueda_indice_invertido(indice_grande, documentos_grande, querys)"
   ]
  },
  {
   "cell_type": "code",
   "execution_count": 67,
   "id": "41a62128",
   "metadata": {},
   "outputs": [
    {
     "name": "stdout",
     "output_type": "stream",
     "text": [
      "\n",
      "Resultados para Corpus pequeño:\n",
      "Palabra         Lineal (s)      Índice (s)     \n",
      "---------------------------------------------\n",
      "quito           0.001001        0.000000       \n",
      "montañita       0.001516        0.000000       \n",
      "feriado         0.000000        0.000000       \n",
      "playas          0.000000        0.000000       \n",
      "aventura        0.001011        0.000000       \n",
      "galápagos       0.000000        0.000000       \n",
      "\n",
      "Resultados para Corpus grande:\n",
      "Palabra         Lineal (s)      Índice (s)     \n",
      "---------------------------------------------\n",
      "quito           0.002000        0.000000       \n",
      "montañita       0.002000        0.000000       \n",
      "feriado         0.001996        0.000000       \n",
      "playas          0.000000        0.000000       \n",
      "aventura        0.001088        0.000000       \n",
      "galápagos       0.000998        0.000000       \n"
     ]
    }
   ],
   "source": [
    "def mostrar_tabla(querys, tiempos_lineal, tiempos_indice_invertido, corpus_nombre):\n",
    "    print(f\"\\nResultados para {corpus_nombre}:\")\n",
    "    print(f\"{'Palabra':<15} {'Lineal (s)':<15} {'Índice (s)':<15}\")\n",
    "    print(\"-\" * 45)\n",
    "    for palabra, t_lineal, t_indice in zip(querys, tiempos_lineal, tiempos_indice_invertido):\n",
    "        print(f\"{palabra:<15} {t_lineal:<15.6f} {t_indice:<15.6f}\")\n",
    "\n",
    "# Mostrar resultados\n",
    "mostrar_tabla(querys, tiempos_lineal_pequenio, tiempos_indice_pequenio, \"Corpus pequeño\")\n",
    "mostrar_tabla(querys, tiempos_lineal_grande, tiempos_indice_grande, \"Corpus grande\")\n"
   ]
  },
  {
   "cell_type": "markdown",
   "id": "93a841af5ef64dd7",
   "metadata": {},
   "source": [
    "## Parte 4:\n",
    "### Actividad\n",
    "1. Modifica el índice para que ignore mayúsculas/minúsculas (por ejemplo, \"Playa\" y \"playa\" deben considerarse iguales).\n",
    "2. Permite consultas de múltiples términos (ejemplo: buscar documentos que contengan \"playa\" y \"turismo\").\n",
    "3. Calcula el _speedup_"
   ]
  },
  {
   "cell_type": "code",
   "execution_count": 68,
   "id": "66741cbd7ba00bb6",
   "metadata": {},
   "outputs": [],
   "source": [
    "# Modificación de índice para que no difiera de mayusculas ni minusculas ni separadores\n",
    "# Funcion de busqueda que utiliza el indice invertido\n",
    "def buscar_con_indice(indice_invertido, documentos, query):\n",
    "    query = query.lower().strip('.,;:!?()\"\\'')\n",
    "    if query in indice_invertido:\n",
    "        indices_documentos = indice_invertido[query]\n",
    "        resultados=[]\n",
    "        for i in indices_documentos:\n",
    "            resultados.append(f\"Documento {i}: {documentos[i].strip()}\")\n",
    "\n",
    "        print(resultados)\n",
    "    else:\n",
    "        print('No se encontró el query en el corpus')"
   ]
  },
  {
   "cell_type": "code",
   "execution_count": null,
   "id": "60f91985",
   "metadata": {},
   "outputs": [],
   "source": [
    "def buscar_multi_terminos(indice_invertido, documentos, querys):\n",
    "    query = querys.lower().strip().split()\n",
    "\n",
    "    palabras = []\n",
    "    for p in query:\n",
    "        if p:\n",
    "            palabra = p.strip('.,;:!?()\"\\'')\n",
    "            palabras.append(palabra)\n",
    "\n",
    "    documentos_comunes = indice_invertido.get(palabras[0], set()).copy()\n",
    "\n",
    "    for palabra in palabras[1:]:\n",
    "        documentos_comunes = documentos_comunes & indice_invertido.get(palabra, set())\n",
    "\n",
    "    resultados = []\n",
    "    for i in documentos_comunes:\n",
    "        texto = documentos[i].strip()\n",
    "        resultados.append(f\"Documento {i}: {texto}\")\n",
    "\n",
    "    return resultados"
   ]
  },
  {
   "cell_type": "code",
   "execution_count": 91,
   "id": "6ef8ea3a",
   "metadata": {},
   "outputs": [
    {
     "data": {
      "text/plain": [
       "[]"
      ]
     },
     "execution_count": 91,
     "metadata": {},
     "output_type": "execute_result"
    }
   ],
   "source": [
    "buscar_multi_terminos(indice_invertido, documentos, \"playas turismo\")"
   ]
  },
  {
   "cell_type": "code",
   "execution_count": 92,
   "id": "6ae727da",
   "metadata": {},
   "outputs": [],
   "source": [
    "def calcular_speedup(nombre_archivo, indice_invertido, documentos, query):\n",
    "    # ----- Tiempo de búsqueda lineal -----\n",
    "    inicio_lineal = time.time()\n",
    "    buscar_query(nombre_archivo, query)\n",
    "    fin_lineal = time.time()\n",
    "    tiempo_lineal = fin_lineal - inicio_lineal\n",
    "\n",
    "    # ----- Tiempo de búsqueda con índice invertido -----\n",
    "    inicio_indice = time.time()\n",
    "    buscar_multi_terminos(indice_invertido, documentos, query)\n",
    "    fin_indice = time.time()\n",
    "    tiempo_indice = fin_indice - inicio_indice\n",
    "\n",
    "    # ----- Calcular speedup -----\n",
    "    if tiempo_indice > 0:\n",
    "        speedup = tiempo_lineal / tiempo_indice\n",
    "    else:\n",
    "        if tiempo_indice < 1e-6:\n",
    "            print(\"Índice invertido extremadamente rápido (casi 0 segundos)\")\n",
    "            speedup = float('inf')\n",
    "\n",
    "\n",
    "    # ----- Mostrar resultados -----\n",
    "    print(f\"Tiempo búsqueda lineal: {tiempo_lineal:.6f} segundos\")\n",
    "    print(f\"Tiempo búsqueda con índice invertido: {tiempo_indice:.6f} segundos\")\n",
    "    print(f\"Speedup: {speedup:.2f} veces más rápido\")\n",
    "\n",
    "    return speedup"
   ]
  },
  {
   "cell_type": "code",
   "execution_count": 93,
   "id": "4f055457",
   "metadata": {},
   "outputs": [
    {
     "name": "stdout",
     "output_type": "stream",
     "text": [
      "['Documento 12: Guayaquil sorprende con su Malecón 2000 y vida nocturna Un lugar espectacular para visitar.', 'Documento 14: Guayaquil sorprende con su Malecón 2000 y vida nocturna Perfecto para senderismo.', 'Documento 20: Guayaquil sorprende con su Malecón 2000 y vida nocturna', 'Documento 54: Guayaquil sorprende con su Malecón 2000 y vida nocturna', 'Documento 70: Guayaquil sorprende con su Malecón 2000 y vida nocturna Una experiencia inolvidable.', 'Documento 79: Guayaquil sorprende con su Malecón 2000 y vida nocturna Ideal para el próximo feriado.', 'Documento 104: Guayaquil sorprende con su Malecón 2000 y vida nocturna Un lugar espectacular para visitar.', 'Documento 115: Guayaquil sorprende con su Malecón 2000 y vida nocturna Ideal para el próximo feriado.', 'Documento 122: Guayaquil sorprende con su Malecón 2000 y vida nocturna Ideal para el próximo feriado.', 'Documento 130: Guayaquil sorprende con su Malecón 2000 y vida nocturna', 'Documento 146: Guayaquil sorprende con su Malecón 2000 y vida nocturna Ideal para el próximo feriado.', 'Documento 181: Guayaquil sorprende con su Malecón 2000 y vida nocturna', 'Documento 198: Guayaquil sorprende con su Malecón 2000 y vida nocturna Ideal para el próximo feriado.', 'Documento 217: Guayaquil sorprende con su Malecón 2000 y vida nocturna Perfecto para surf.', 'Documento 233: Guayaquil sorprende con su Malecón 2000 y vida nocturna Ideal para el próximo feriado.', 'Documento 244: Guayaquil sorprende con su Malecón 2000 y vida nocturna Perfecto para avistamiento de aves.', 'Documento 246: Guayaquil sorprende con su Malecón 2000 y vida nocturna Una experiencia inolvidable.', 'Documento 262: Guayaquil sorprende con su Malecón 2000 y vida nocturna Una experiencia inolvidable.', 'Documento 278: Guayaquil sorprende con su Malecón 2000 y vida nocturna Un lugar espectacular para visitar.', 'Documento 304: Guayaquil sorprende con su Malecón 2000 y vida nocturna Perfecto para canopy.', 'Documento 335: Guayaquil sorprende con su Malecón 2000 y vida nocturna Perfecto para canopy.', 'Documento 356: Guayaquil sorprende con su Malecón 2000 y vida nocturna Una experiencia inolvidable.', 'Documento 365: Guayaquil sorprende con su Malecón 2000 y vida nocturna Un lugar famoso para visitar.', 'Documento 368: Guayaquil sorprende con su Malecón 2000 y vida nocturna Ideal para el próximo feriado.', 'Documento 401: Guayaquil sorprende con su Malecón 2000 y vida nocturna', 'Documento 406: Guayaquil sorprende con su Malecón 2000 y vida nocturna Una experiencia inolvidable.', 'Documento 410: Guayaquil sorprende con su Malecón 2000 y vida nocturna', 'Documento 414: Guayaquil sorprende con su Malecón 2000 y vida nocturna', 'Documento 423: Guayaquil sorprende con su Malecón 2000 y vida nocturna Un lugar famoso para visitar.', 'Documento 426: Guayaquil sorprende con su Malecón 2000 y vida nocturna Perfecto para avistamiento de aves.', 'Documento 428: Guayaquil sorprende con su Malecón 2000 y vida nocturna Ideal para el próximo feriado.', 'Documento 435: Guayaquil sorprende con su Malecón 2000 y vida nocturna', 'Documento 470: Guayaquil sorprende con su Malecón 2000 y vida nocturna Un lugar tranquilo para visitar.']\n",
      "Índice invertido extremadamente rápido (casi 0 segundos)\n",
      "Tiempo búsqueda lineal: 0.001001 segundos\n",
      "Tiempo búsqueda con índice invertido: 0.000000 segundos\n",
      "Speedup: inf veces más rápido\n"
     ]
    },
    {
     "data": {
      "text/plain": [
       "inf"
      ]
     },
     "execution_count": 93,
     "metadata": {},
     "output_type": "execute_result"
    }
   ],
   "source": [
    "nombre_archivo = '01_corpus_turismo_500.txt'\n",
    "indice_invertido, documentos = construir_indice_invertido(nombre_archivo)\n",
    "calcular_speedup(nombre_archivo, indice_invertido, documentos, \"2000\")"
   ]
  }
 ],
 "metadata": {
  "kernelspec": {
   "display_name": "base",
   "language": "python",
   "name": "python3"
  },
  "language_info": {
   "codemirror_mode": {
    "name": "ipython",
    "version": 3
   },
   "file_extension": ".py",
   "mimetype": "text/x-python",
   "name": "python",
   "nbconvert_exporter": "python",
   "pygments_lexer": "ipython3",
   "version": "3.11.7"
  }
 },
 "nbformat": 4,
 "nbformat_minor": 5
}
