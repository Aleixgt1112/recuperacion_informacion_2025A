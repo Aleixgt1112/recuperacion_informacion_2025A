{
 "cells": [
  {
   "cell_type": "markdown",
   "metadata": {
    "id": "rxBRDjEkcfSA"
   },
   "source": [
    "# Ejercicio 12: Web Scraping\n",
    "## Objetivo de la práctica\n",
    "El objetivo de este ejercicio es construir un web scraper que recoja datos de un website.\n",
    "### Parte 0: Planificar\n",
    "1. Identificar los datos que quieres obtener.\n",
    "2. Elegir el sitio web objetivo.\n",
    "3. Planificar la estructura del corpus."
   ]
  },
  {
   "cell_type": "markdown",
   "metadata": {
    "id": "PhOzGws8dAH7"
   },
   "source": [
    "### Parte 1: Entender el sitio web objetivo\n",
    "- Analizar la estructura de la página web a ser analizada.\n",
    "- Identificar los elementos HTML que contienen los datos buscados."
   ]
  },
  {
   "cell_type": "code",
   "execution_count": null,
   "metadata": {
    "colab": {
     "base_uri": "https://localhost:8080/"
    },
    "id": "x-KPTgspcSf2",
    "outputId": "30e574ac-180a-4782-83f9-120f736cb439"
   },
   "outputs": [],
   "source": [
    "# Obtener el archivo HTML\n",
    "!wget -O rotisserie-chicken.html \\\n",
    "--header=\"User-Agent: Mozilla/5.0 (Windows NT 10.0; Win64; x64) AppleWebKit/537.36 (KHTML, like Gecko) Chrome/115.0.0.0 Safari/537.36\" \\\n",
    "\"https://www.allrecipes.com/recipe/93168/rotisserie-chicken/\""
   ]
  },
  {
   "cell_type": "code",
   "execution_count": null,
   "metadata": {
    "id": "KFx1MY2KedyJ"
   },
   "outputs": [],
   "source": [
    "from bs4 import BeautifulSoup\n",
    "\n",
    "file = 'rotisserie-chicken.html'\n",
    "\n",
    "# load html file\n",
    "with open(file, \"r\", encoding=\"UTF-8\") as file:\n",
    "    html_content = file.read()\n",
    "\n",
    "# parse the html content with BeautifulSoup\n",
    "soup = BeautifulSoup(html_content, \"html.parser\")"
   ]
  },
  {
   "cell_type": "code",
   "execution_count": null,
   "metadata": {
    "colab": {
     "base_uri": "https://localhost:8080/",
     "height": 35
    },
    "id": "qXZo-7eEgpkO",
    "outputId": "caa18307-317d-466b-aa45-bee1929fee1b"
   },
   "outputs": [],
   "source": [
    "# extracting the recipe title\n",
    "title = soup.find(\"meta\", {\"property\":\"og:title\"})[\"content\"]\n",
    "title"
   ]
  },
  {
   "cell_type": "code",
   "execution_count": null,
   "metadata": {
    "colab": {
     "base_uri": "https://localhost:8080/"
    },
    "id": "sw2cGHeRixFl",
    "outputId": "78ca2591-45d3-4e85-acdf-f9680fd13095"
   },
   "outputs": [],
   "source": [
    "# Ingredients\n",
    "ingredients_section = soup.find_all(\"li\", class_ = \"mm-recipes-structured-ingredients__list-item\")\n",
    "for ingredient in ingredients_section:\n",
    "    print(ingredient.text.strip())"
   ]
  },
  {
   "cell_type": "markdown",
   "metadata": {
    "id": "YGRzpgUQ-Odl"
   },
   "source": [
    "### Parte 2: Obtener los datos deseados\n",
    "- Buscar dentro del contenido HTML y extraer la información."
   ]
  },
  {
   "cell_type": "code",
   "execution_count": null,
   "metadata": {
    "id": "HFeGMcEGpkPK"
   },
   "outputs": [],
   "source": [
    "# Extracting the summary\n",
    "summary= soup.find(\"p\", class_ = \"article-subheading text-utility-300\").text.strip()"
   ]
  },
  {
   "cell_type": "code",
   "execution_count": null,
   "metadata": {
    "id": "pwhhXnCmCfMW"
   },
   "outputs": [],
   "source": [
    "# Extracting the ingredients\n",
    "ingredients_section = soup.find_all(\"li\", class_=\"mm-recipes-structured-ingredients__list-item\")\n",
    "ingredients = [ingredient.get_text().strip() for ingredient in ingredients_section]"
   ]
  },
  {
   "cell_type": "code",
   "execution_count": null,
   "metadata": {
    "id": "1kX15MfDjOt7"
   },
   "outputs": [],
   "source": [
    "# Extracting the rating\n",
    "review= soup.find(\"div\", class_ = \"comp mm-recipes-review-bar__rating mntl-text-block text-label-300\").text.strip()"
   ]
  },
  {
   "cell_type": "code",
   "execution_count": null,
   "metadata": {
    "id": "jMBG6n4claIr"
   },
   "outputs": [],
   "source": [
    "# Extracting the number of Servings\n",
    "import re\n",
    "\n",
    "serving_results = soup.find_all(\"div\", class_=\"mm-recipes-details__value\")\n",
    "\n",
    "for serving in serving_results:\n",
    "    text = serving.text.strip()\n",
    "    if re.fullmatch(r\"\\d+\", text):  # Solo si es un número entero\n",
    "        servings = text"
   ]
  },
  {
   "cell_type": "code",
   "execution_count": null,
   "metadata": {
    "id": "rvxwGlYAmt0l"
   },
   "outputs": [],
   "source": [
    "# Extracting the time\n",
    "\n",
    "# todos los items de detalle\n",
    "details = soup.find_all(\"div\", class_=\"mm-recipes-details__item\")\n",
    "\n",
    "for item in details:\n",
    "    label = item.find(\"div\", class_=\"mm-recipes-details__label\")\n",
    "    value = item.find(\"div\", class_=\"mm-recipes-details__value\")\n",
    "    # extract the time\n",
    "    if label and label.text.strip() == \"Total Time:\":\n",
    "        time = value.text.strip()"
   ]
  },
  {
   "cell_type": "code",
   "execution_count": null,
   "metadata": {
    "id": "5psG3DD9qlvK"
   },
   "outputs": [],
   "source": [
    "# directions section\n",
    "li_items = soup.find_all(\"li\", class_=\"comp mntl-sc-block mntl-sc-block-startgroup mntl-sc-block-group--LI\")\n",
    "directions = []\n",
    "# Itera sobre ellos y busca su <p> hijo\n",
    "for li in li_items:\n",
    "    p_tag = li.find(\"p\")\n",
    "    if p_tag:\n",
    "        directions.append(p_tag.text.strip())"
   ]
  },
  {
   "cell_type": "code",
   "execution_count": null,
   "metadata": {
    "id": "wgrvrHPkEDfE"
   },
   "outputs": [],
   "source": [
    "# Extracting the nutrition information\n",
    "nutrition_section = soup.find_all(\"span\", class_=\"mm-recipes-nutrition-facts-label__nutrient-name mm-recipes-nutrition-facts-label__nutrient-name--has-postfix\")\n",
    "nutrition_facts = [fact.parent.get_text().strip().replace('\\n', ' ') for fact in nutrition_section]"
   ]
  },
  {
   "cell_type": "code",
   "execution_count": null,
   "metadata": {
    "id": "P17DVs1JRgbY"
   },
   "outputs": [],
   "source": [
    "# Extracting the image\n",
    "def extraer_url_imagen_receta(soup):\n",
    "\n",
    "    article_content = soup.find('div', class_='loc article-content')\n",
    "\n",
    "    if not article_content:\n",
    "        return None\n",
    "\n",
    "    image_url = None\n",
    "\n",
    "    # Buscar la URL en la etiqueta de video\n",
    "    video_tag = article_content.find('video')\n",
    "    if video_tag:\n",
    "        if video_tag.has_attr('data-poster'):\n",
    "            image_url = video_tag['data-poster']\n",
    "        elif video_tag.has_attr('poster'):\n",
    "            image_url = video_tag['poster']\n",
    "\n",
    "    # Si no se encontró en el video, buscar en la etiqueta de imagen\n",
    "    if not image_url:\n",
    "        figure_tag = article_content.find('figure')\n",
    "        if figure_tag:\n",
    "            try:\n",
    "                img_tag = figure_tag.find('div').find('div').find('img')\n",
    "                if img_tag and img_tag.has_attr('src'):\n",
    "                    image_url = img_tag['src']\n",
    "            except AttributeError:\n",
    "                pass\n",
    "\n",
    "    return image_url"
   ]
  },
  {
   "cell_type": "code",
   "execution_count": null,
   "metadata": {
    "colab": {
     "base_uri": "https://localhost:8080/"
    },
    "id": "bk0hDPMSVvKX",
    "outputId": "b9746528-9690-46a9-f487-458b0f30cec9"
   },
   "outputs": [],
   "source": [
    "url_imagen = extraer_url_imagen_receta(soup)\n",
    "\n",
    "print(f\"URL extraída: {url_imagen}\")"
   ]
  },
  {
   "cell_type": "code",
   "execution_count": null,
   "metadata": {
    "colab": {
     "base_uri": "https://localhost:8080/"
    },
    "id": "Iv4NqepOYu-A",
    "outputId": "096bc19d-f68e-47b1-ea4c-45139e5d2d69"
   },
   "outputs": [],
   "source": [
    "# Print the extracted information\n",
    "print(\"Title:\", title)\n",
    "print(\"Summary:\", summary)\n",
    "print(\"Ingredients:\")\n",
    "for ingredient in ingredients:\n",
    "    print(\"-\", ingredient)\n",
    "print(\"Rating:\", review)\n",
    "print(\"Servings:\", servings)\n",
    "print(\"Time:\", time)\n",
    "print(\"Directions:\")\n",
    "for i, direction in enumerate(directions, 1):\n",
    "    print(f\"{i}.\" + direction)\n",
    "print(\"Nutrition Facts:\")\n",
    "for fact in nutrition_facts:\n",
    "    print(\"-\", fact)\n",
    "print(\"Image URL:\", url_imagen)"
   ]
  },
  {
   "cell_type": "markdown",
   "metadata": {
    "id": "duNHqxMm-ZJ1"
   },
   "source": [
    "### Parte 3: Obtener enlaces relacionados\n",
    "- Encontrar links a otras recetas para completar el corpus"
   ]
  },
  {
   "cell_type": "code",
   "execution_count": null,
   "metadata": {
    "id": "fBsYJHRT-kzk"
   },
   "outputs": [],
   "source": [
    "# Lista para almacenar las URLs encontradas\n",
    "recipe_links = []\n",
    "\n",
    "# Encontrar todos los hipervínculos (<a>) con la clase específica de las tarjetas de recetas\n",
    "link_elements = soup.find_all('a', class_='comp mntl-card-list-items mntl-universal-card mntl-document-card mntl-card card card--no-image')\n",
    "\n",
    "# Iterar sobre los elementos encontrados y extraer la URL\n",
    "for link in link_elements:\n",
    "    # Obtener el valor del atributo 'href', que contiene la URL\n",
    "    href = link.get('href')\n",
    "\n",
    "    # Validar que sea un enlace de receta y no esté vacío\n",
    "    # Nos aseguramos que el enlace existe y que es una receta (suelen empezar con '/recipe/').\n",
    "    if href and href.startswith('https://www.allrecipes.com/recipe/'):\n",
    "        recipe_links.append(href)"
   ]
  },
  {
   "cell_type": "code",
   "execution_count": null,
   "metadata": {
    "colab": {
     "base_uri": "https://localhost:8080/"
    },
    "id": "vlsgSQRXewS-",
    "outputId": "8361d059-3694-438c-ac8b-db8111e92e77"
   },
   "outputs": [],
   "source": [
    "# Mostrar los resultados\n",
    "print(f\"✅ Se encontraron {len(recipe_links)} enlaces a recetas.\")\n",
    "for url in recipe_links:\n",
    "    print(url)"
   ]
  },
  {
   "cell_type": "code",
   "execution_count": null,
   "metadata": {
    "id": "6NxXlbaGieY2"
   },
   "outputs": [],
   "source": [
    "import requests\n",
    "import time\n",
    "\n",
    "def crear_corpus_recetas(url_inicial, cantidad_maxima=100):\n",
    "\n",
    "    # La cola de URLs que necesitamos visitar. Empezamos con la URL inicial.\n",
    "    urls_a_visitar = [url_inicial]\n",
    "\n",
    "    # Un conjunto (set) para guardar las URLs que ya hemos visitado o agregado a la cola.\n",
    "    urls_visitadas = {url_inicial}\n",
    "\n",
    "    # La lista final donde guardaremos las recetas válidas encontradas.\n",
    "    enlaces_recetas_encontrados = []\n",
    "\n",
    "    print(f\"🤖 Iniciando crawler en: {url_inicial}\")\n",
    "    print(\"-------------------------------------------------\")\n",
    "\n",
    "    # BUCLE PRINCIPAL DEL CRAWLER\n",
    "    # El bucle se ejecuta mientras tengamos URLs en la cola y no hayamos alcanzado nuestro objetivo.\n",
    "    while urls_a_visitar and len(enlaces_recetas_encontrados) < cantidad_maxima:\n",
    "\n",
    "        # Sacamos la primera URL de la lista para procesarla.\n",
    "        url_actual = urls_a_visitar.pop(0)\n",
    "\n",
    "        # Añadimos la URL actual a nuestra lista final de recetas.\n",
    "        enlaces_recetas_encontrados.append(url_actual)\n",
    "        print(f\"[{len(enlaces_recetas_encontrados)}/{cantidad_maxima}] Procesando: {url_actual}\")\n",
    "\n",
    "        try:\n",
    "            # OBTENER Y PARSEAR EL HTML\n",
    "\n",
    "            headers = {'User-Agent': 'RecipeCorpusCrawler/1.0'}\n",
    "\n",
    "            response = requests.get(url_actual, headers=headers, timeout=10)\n",
    "\n",
    "            # Si la solicitud no fue exitosa, saltamos a la siguiente URL.\n",
    "            if response.status_code != 200:\n",
    "                print(f\"  -> Error: No se pudo acceder a la URL (Código: {response.status_code})\")\n",
    "                continue\n",
    "\n",
    "            soup = BeautifulSoup(response.content, 'html.parser')\n",
    "\n",
    "            # EXTRAER NUEVOS ENLACES DE LA PÁGINA ACTUAL\n",
    "            nuevos_enlaces = soup.find_all('a', class_='comp mntl-card-list-items mntl-universal-card mntl-document-card mntl-card card card--no-image')\n",
    "            print(f\"  -> Se encontraron {len(nuevos_enlaces)} nuevos enlaces.\")\n",
    "\n",
    "            for link in nuevos_enlaces:\n",
    "                href = link.get('href')\n",
    "\n",
    "                # Verificamos que el enlace es válido, es una receta, y no lo hemos visitado antes.\n",
    "                if href and href.startswith('https://www.allrecipes.com/recipe/') and href not in urls_visitadas:\n",
    "                    # Si es un enlace nuevo y válido, lo añadimos a la cola y al conjunto de visitados.\n",
    "                    urls_visitadas.add(href)\n",
    "                    urls_a_visitar.append(href)\n",
    "\n",
    "        except requests.exceptions.RequestException as e:\n",
    "            print(f\"  -> Error de red al intentar acceder a {url_actual}: {e}\")\n",
    "\n",
    "        # Hacemos una pausa de 1 segundo entre cada solicitud para no sobrecargar el sitio.\n",
    "        time.sleep(1)\n",
    "\n",
    "    print(\"-------------------------------------------------\")\n",
    "    print(f\"✅ Proceso completado. Total de enlaces recolectados: {len(enlaces_recetas_encontrados)}\")\n",
    "    return enlaces_recetas_encontrados"
   ]
  },
  {
   "cell_type": "code",
   "execution_count": null,
   "metadata": {
    "colab": {
     "base_uri": "https://localhost:8080/"
    },
    "id": "IshyP19ai57c",
    "outputId": "b7259af4-a644-46ad-eec6-65d8ec09746f"
   },
   "outputs": [],
   "source": [
    "# --- EJECUCIÓN DEL CRAWLER\n",
    "url_semilla = 'https://www.allrecipes.com/recipe/93168/rotisserie-chicken/'\n",
    "corpus_final = crear_corpus_recetas(url_semilla, cantidad_maxima=100)\n",
    "\n",
    "# primeros 10 enlaces del corpus final\n",
    "print(\"\\nPrimeros 10 enlaces del corpus:\")\n",
    "for url in corpus_final[:10]:\n",
    "    print(url)"
   ]
  },
  {
   "cell_type": "code",
   "execution_count": null,
   "metadata": {
    "id": "ndkg99YUlsJ8"
   },
   "outputs": [],
   "source": [
    "# from each url in corpus_final, extract the tittle, summary, ingredients, rating, servings, time, directions, nutrition facts and image URL to agroup them in a dataframe\n",
    "import pandas as pd\n",
    "\n",
    "def scrape_recipe_details(url):\n",
    "    \"\"\"\n",
    "    Visita la URL de una receta y extrae todos sus detalles.\n",
    "    Retorna un diccionario con la información de la receta.\n",
    "    \"\"\"\n",
    "    try:\n",
    "        headers = {'User-Agent': 'RecipeScraper/2.0'}\n",
    "        response = requests.get(url, headers=headers, timeout=15)\n",
    "        if response.status_code != 200:\n",
    "            print(f\"  -> Error al acceder a {url}, Código: {response.status_code}\")\n",
    "            return None\n",
    "    except requests.exceptions.RequestException as e:\n",
    "        print(f\"  -> Error de red para {url}: {e}\")\n",
    "        return None\n",
    "\n",
    "    soup = BeautifulSoup(response.content, 'html.parser')\n",
    "\n",
    "    recipe_data = {}\n",
    "\n",
    "    try:\n",
    "        # Title\n",
    "        recipe_data['title'] = soup.find(\"meta\", {\"property\":\"og:title\"})[\"content\"]\n",
    "    except AttributeError:\n",
    "        recipe_data['title'] = None\n",
    "\n",
    "    try:\n",
    "        # Summary\n",
    "        recipe_data['summary'] = soup.find(\"p\", class_=\"article-subheading text-utility-300\").text.strip()\n",
    "    except AttributeError:\n",
    "        recipe_data['summary'] = None\n",
    "\n",
    "    try:\n",
    "        # Ingredients\n",
    "        ingredients_section = soup.find_all(\"li\", class_=\"mm-recipes-structured-ingredients__list-item\")\n",
    "        recipe_data['ingredients'] = [ing.get_text(strip=True) for ing in ingredients_section]\n",
    "    except:\n",
    "        recipe_data['ingredients'] = []\n",
    "\n",
    "    try:\n",
    "        # Rating\n",
    "        recipe_data['rating'] = soup.find(\"div\", class_=\"comp mm-recipes-review-bar__rating mntl-text-block text-label-300\").text.strip()\n",
    "    except AttributeError:\n",
    "        recipe_data['rating'] = None\n",
    "\n",
    "    try:\n",
    "        # Servings y Time\n",
    "        servings, total_time = None, None\n",
    "        details_items = soup.find_all(\"div\", class_=\"mm-recipes-details__item\")\n",
    "        for item in details_items:\n",
    "            label = item.find(\"div\", class_=\"mm-recipes-details__label\").text.strip()\n",
    "            value = item.find(\"div\", class_=\"mm-recipes-details__value\").text.strip()\n",
    "            if label == \"Servings:\":\n",
    "                servings = value\n",
    "            elif label == \"Total Time:\":\n",
    "                total_time = value\n",
    "        recipe_data['servings'] = servings\n",
    "        recipe_data['time'] = total_time\n",
    "    except:\n",
    "        recipe_data['servings'] = None\n",
    "        recipe_data['time'] = None\n",
    "\n",
    "    try:\n",
    "        # Directions\n",
    "        li_items = soup.find_all(\"li\", class_=\"comp mntl-sc-block mntl-sc-block-startgroup mntl-sc-block-group--LI\")\n",
    "        directions = [li.find(\"p\").text.strip() for li in li_items if li.find(\"p\")]\n",
    "        recipe_data['directions'] = directions\n",
    "    except:\n",
    "        recipe_data['directions'] = []\n",
    "\n",
    "    try:\n",
    "        # Nutrition Facts\n",
    "        nutrition_section = soup.find_all(\"tr\", class_=\"mm-recipes-nutrition-facts-summary__table-row\")\n",
    "        nutrition_facts = [fact.get_text(strip=True).replace('\\n', ' ').replace('  ', ' ') for fact in nutrition_section]\n",
    "        recipe_data['nutrition_facts'] = nutrition_facts\n",
    "    except:\n",
    "        recipe_data['nutrition_facts'] = []\n",
    "\n",
    "    # Image URL\n",
    "    recipe_data['image_url'] = extraer_url_imagen_receta(soup)\n",
    "\n",
    "    # URL de la receta\n",
    "    recipe_data['source_url'] = url\n",
    "\n",
    "    return recipe_data"
   ]
  },
  {
   "cell_type": "code",
   "execution_count": null,
   "metadata": {
    "colab": {
     "base_uri": "https://localhost:8080/"
    },
    "id": "rwsA_4BUzuch",
    "outputId": "0fe07987-299a-4251-c339-279f079b5144"
   },
   "outputs": [],
   "source": [
    "all_recipes_data = []\n",
    "\n",
    "print(f\"🍲 Empezando a scrapear {len(corpus_final)} recetas...\")\n",
    "\n",
    "# Iteramos sobre cada URL en nuestro corpus\n",
    "for i, url in enumerate(corpus_final):\n",
    "    print(f\"Procesando [{i+1}/{len(corpus_final)}]: {url}\")\n",
    "\n",
    "    data = scrape_recipe_details(url)\n",
    "\n",
    "    # Si la función devolvió datos, los añadimos a nuestra lista\n",
    "    if data:\n",
    "        all_recipes_data.append(data)\n",
    "\n",
    "    # para no saturar el servidor\n",
    "    time.sleep(1)\n",
    "\n",
    "print(\"\\n✅ Scraping completado.\")\n",
    "\n",
    "# Crear el DataFrame a partir de la lista de diccionarios\n",
    "df_recetas = pd.DataFrame(all_recipes_data)\n",
    "\n",
    "print(\" DataFrame creado exitosamente:\")\n",
    "print(\"\\nInformación del DataFrame:\")\n",
    "df_recetas.info()\n",
    "\n",
    "print(\"\\nPrimeras 5 filas del DataFrame:\")\n",
    "print(df_recetas.head())"
   ]
  },
  {
   "cell_type": "code",
   "execution_count": null,
   "metadata": {
    "colab": {
     "base_uri": "https://localhost:8080/",
     "height": 771
    },
    "id": "eQs4slAczufI",
    "outputId": "c526a4a9-6034-4f35-cf1e-60265667cd23"
   },
   "outputs": [],
   "source": [
    "df_recetas"
   ]
  },
  {
   "cell_type": "markdown",
   "metadata": {
    "id": "REksSRjd4ss4"
   },
   "source": [
    "#### Preprocesamiento del texto previo al cálculo de embeddings"
   ]
  },
  {
   "cell_type": "code",
   "execution_count": null,
   "metadata": {
    "colab": {
     "base_uri": "https://localhost:8080/"
    },
    "id": "ks1YWY8g40MY",
    "outputId": "dc8a3eaa-eaaf-45ce-8c89-dee956d80e7a"
   },
   "outputs": [],
   "source": [
    "import nltk\n",
    "nltk.download('punkt')\n",
    "nltk.download('stopwords')\n",
    "nltk.download('punkt_tab')"
   ]
  },
  {
   "cell_type": "code",
   "execution_count": null,
   "metadata": {
    "id": "audf-PdJ40Po"
   },
   "outputs": [],
   "source": [
    "from nltk.corpus import stopwords\n",
    "from nltk.stem import PorterStemmer\n",
    "from nltk.tokenize import word_tokenize"
   ]
  },
  {
   "cell_type": "code",
   "execution_count": null,
   "metadata": {
    "id": "DLUssXVa40SQ"
   },
   "outputs": [],
   "source": [
    "def preprocesar_texto(texto):\n",
    "    \"\"\"\n",
    "    Realiza preprocesamiento del texto:\n",
    "    - Unir palabras cortadas por guión y salto de línea.\n",
    "    - Eliminar saltos de línea y tabuladores restantes.\n",
    "    - Eliminar caracteres especiales.\n",
    "    - Convertir a minúsculas.\n",
    "    - Tokenizar.\n",
    "    - Eliminar stopwords.\n",
    "    - Aplicar stemming.\n",
    "    Retorna un string con las palabras procesadas separadas por espacio.\n",
    "    \"\"\"\n",
    "    if not texto:\n",
    "        return \"\"\n",
    "\n",
    "    # Unir palabras separadas por guión y salto de línea\n",
    "    texto = re.sub(r\"-\\n([a-z])\", r\"\\1\", texto)\n",
    "\n",
    "    # Eliminar saltos de línea y tabuladores sobrantes\n",
    "    texto = texto.replace(\"\\n\", \" \").replace(\"\\t\", \" \")\n",
    "\n",
    "    # Eliminar caracteres especiales (conservar solo letras y números)\n",
    "    texto = re.sub(r\"[^a-zA-Z0-9 ]\", \" \", texto)\n",
    "\n",
    "    # Pasar a minúsculas\n",
    "    texto = texto.lower()\n",
    "\n",
    "    # Tokenizar\n",
    "    tokens = word_tokenize(texto)\n",
    "\n",
    "    # Eliminar stopwords\n",
    "    stop_words = set(stopwords.words(\"english\"))\n",
    "    tokens = [word for word in tokens if word not in stop_words]\n",
    "\n",
    "    # Stemming\n",
    "    stemmer = PorterStemmer()\n",
    "    tokens = [stemmer.stem(word) for word in tokens]\n",
    "\n",
    "    # Unir tokens de nuevo\n",
    "    texto_procesado = \" \".join(tokens)\n",
    "\n",
    "    return texto_procesado"
   ]
  },
  {
   "cell_type": "code",
   "execution_count": null,
   "metadata": {
    "id": "6ZOQIzRG40Uw"
   },
   "outputs": [],
   "source": [
    "df_recetas[\"contenido_preprocesado\"] = df_recetas.apply(\n",
    "    lambda row: preprocesar_texto(\n",
    "        f\"{str(row['title'] or '')}. \"\n",
    "        f\"{str(row['summary'] or '')}. \"\n",
    "        f\"Ingredientes: {' '.join(row['ingredients'] or [])}. \"\n",
    "        f\"Instrucciones: {' '.join(row['directions'] or [])}. \"\n",
    "        f\"NutritionFacts: {' '.join(row['nutrition_facts'] or [])}\"\n",
    "    ),\n",
    "    axis=1\n",
    ")"
   ]
  },
  {
   "cell_type": "code",
   "execution_count": null,
   "metadata": {
    "colab": {
     "base_uri": "https://localhost:8080/",
     "height": 1000
    },
    "id": "t8_Nxwc82CYo",
    "outputId": "787fca60-3b14-407a-e3a8-4bd9dc3dbbd7"
   },
   "outputs": [],
   "source": [
    "df_recetas"
   ]
  },
  {
   "cell_type": "markdown",
   "metadata": {
    "id": "PU5Q6tzl8iV2"
   },
   "source": [
    "#### Obtener embeddings para cada receta\n",
    "##### Carga del modelo"
   ]
  },
  {
   "cell_type": "code",
   "execution_count": null,
   "metadata": {
    "colab": {
     "base_uri": "https://localhost:8080/",
     "height": 473,
     "referenced_widgets": [
      "135633a1323545b68a09bee12d112674",
      "efe9858c2ce14beabcc55686802c14ed",
      "362d45daa0fb483b9fe137bec0d0e670",
      "2829f2152dd94dabad0a0d78972cd1fd",
      "03adc4d70429423da06d74cb6c77774c",
      "add392f21b50436eba0ddbb29b4ca544",
      "d24242aa3839433f8e79e1f91d427e6a",
      "c5dc33545fda4867b2cfb28a7b211fe0",
      "796c0c253300436ca110225eb61aca67",
      "4ec5631ca3024dad983e7905e6b604ff",
      "f7464583b7d9458aa62d27ce1eca163f",
      "61a3ee4f227f4a9bb1a10436e5331e0b",
      "303761a7fc1c4477961bfa0d03d6a487",
      "e62e032e50c2435296c109e8d7d9e78c",
      "245d933c5a3648738d757ad4dfe326ca",
      "9edde0d8141248b79c470f85b9086fce",
      "06ab2bfd82744caab43306c002e75c67",
      "ad683273716043b4ac2014d4b2127566",
      "d561013a05ee416e81c6de25250d9ab8",
      "fa0e16394965452198d6880e1dbb3e0b",
      "a8fbf2aa06aa42b08fd8c678c3535dc2",
      "90c0e02b72214c7c84c917a8ad9adf8a",
      "792d357801c64d058b5a05a755ab2e91",
      "7f1d5d1c3b7747feab9feb0d1394c6c7",
      "2dc9cedda6694ed79182006a640a249e",
      "c6241cdab4084dbe925f1afa8b1b8f13",
      "98c1876a334549e6b1d65924a42f67b0",
      "03986ced11364a5e9a763fd8f0a76df6",
      "08874bb6b83042e5b9ba1aec21e6c4f7",
      "7b10ca4f97bd4fa9ab85c14947aeb5f3",
      "086cc8c4e6e3426399436143435f6941",
      "d17bf6de889a4f4d96922678b71facc9",
      "895958ff6ac34502a856478d123960f7",
      "d69563aa7cee46f0b7a560bcbc068103",
      "958e4b32573545e6a8702b1e18122180",
      "e41fbbf9cdf2440b88bed2242d5c0304",
      "38e3b7b0d5b74e759c43d5203d1da37b",
      "6d44ad2d477c4e82aa2d511860c825cc",
      "dff63213bf0140aca821538a6a46e907",
      "6cf3f111dd38424cbe3bbd0e6fe945c4",
      "db405c5d76574ecdb9df92a9f0268cd1",
      "3d55ac41fd6b49d49dbbfda8e236c61d",
      "7af8da451f964f3389108dd372bddc6e",
      "a6d4c7c5151c438cbda4e80a9faf17e7",
      "a1fa531679af4400b7f63eb1c10b8c1b",
      "1310b362f8884c8390a92a7c3b9cb4eb",
      "647a7a5b84e7498095a8067810662662",
      "d2876fc5563a4ffa8da1ba4944bf7311",
      "d6c752b20bcf48d08af0ed10982626db",
      "ea2c8a121be14d4db295fe3227b80fdb",
      "e632f43dc66b41fb97a2f3aebb920eb1",
      "1de59b97b9ab4eaa82370d6aa5961741",
      "ddfc62afc0814b2da986c4751142527d",
      "dec5de7c637a4f17a11f8e45c24a875d",
      "172a0a8056204b8db866781f1c3ea975",
      "45d192681f164dbf87c26f6f8059bd1a",
      "434fab61fe8341dbb948cb774459962e",
      "2304aebaec7d429386fd1f1394009eba",
      "1fdc27505a4b463d8a30346c17359daa",
      "f01757ef808e4c80a85708048bb14909",
      "e650b665f04d4af0a3ea3ba6375abc9f",
      "19f68c3bb0704dc88d97a351c6f34a99",
      "8381540408ce465ba694476a30ec99b3",
      "390204e7eea7448da14327e971731001",
      "a6c8e9927cc4453b81f5195a924bd689",
      "8bec7c3f95024b45816d28f1f0106878",
      "7da5862ca95547b788f67a746ae89f04",
      "d17067b6a240446fa2b1e45b928b4efe",
      "787038377b5d4db9a6cb017a1b82e991",
      "28da3f04bb254858b030927f46dfeb0f",
      "cb3d7f79585e41dfa2beb1e09b56ef01",
      "fd7a161d2ce14e33802ffb1afeaf1b6a",
      "5c26f989dc3048509a10b75ab786cae8",
      "e170a94f07ef4d7296421857a2ae350e",
      "a7dde3fb9cfd44e79491373ac3524d3f",
      "22e934601da5477cb5912889c476dc6a",
      "13154a5f0d77449c8088a294991158f7",
      "27d86575c394460f9c6481dce6eb4619",
      "0e77ed5088e44e36a5ebf198d88ee142",
      "5a25c999c2f444199f83c3c438194c3d",
      "ddf8d5885fc84adfbcdc13ac156c7af4",
      "ea4f5fcc2686441c99e36e34f20f644b",
      "0e01630a500245af8e93597dae208134",
      "22891aeb1ee8485db665c8c9bd08813d",
      "ee3d42d4e7e245c18f74c265d64d0168",
      "ad1e077db58240b6a266447a67673cda",
      "d0685f400da24b6db500b07c5a35a201",
      "a36bd28270604bf4bbbb22524943d48c",
      "2c99a01d346047359b5effc9b56acd11",
      "2b69d963b561462dab79a9920a960085",
      "83f5df51766b4a57bce8060075d29389",
      "cfa4101f3aa4409582666ddcf6d5c786",
      "1cd783982a394d60bb2ab1b7235da127",
      "202dbb08c7ea42feb6c7480a109be589",
      "ae22ceaebeeb4cb587223a1712cfc361",
      "717ea903dd104315a73773f888847280",
      "0bc8e5b1ddc040728341419a1f91d380",
      "c2a3f4b3d19f4397b28df4c7c05e2ed9",
      "95ed17ce774c431ebd82d54fd4946b06",
      "e2d46984f87c4c91b526fdd173195c65",
      "09623c85dc024beabae0a5a52a35c06b",
      "6f61b5e0caba400eb22eab0e6eac9e2c",
      "0f122795ff65484c80e09c7cd30cb9b9",
      "511e4f060d3247798d1615e2b4cda9b3",
      "f255a0e4d92c41969efb3443bb0ebe7d",
      "b4dd42ea192a40e5b82eb1707324784a",
      "831947e702c04a8691d13b1239db9f3e",
      "74188d5b61e04415bb9a9c65eb607521",
      "c7ef579776234147b748e3b9e3d45917",
      "7494a183bf02443b99c4da3d6bbc3c4d",
      "cae50da8f9fc43b2a77c5459b7304f48",
      "3d294438084a4270850bc26e30acbcf8",
      "abaa0a4abfd4410a84682e401c4676d7",
      "e7a0cf6a45cd415dadfdeb5d88477824",
      "3703cf6c2160476da9713a5e1e2539c7",
      "b74cafbd02724f069b3bc255be1e0b40",
      "0f651c5ab3fa4b76b1608accb5bdc63c",
      "fc313655228141ada20d85f90b60054d",
      "f51512e638544eb9bf8c4fb35f119fbb",
      "9cc88d50ca014f12a28027074d7563a2",
      "9408bd87bba34c0bba30929e840f7db8"
     ]
    },
    "id": "9IuzLZpl3pOw",
    "outputId": "0dc6394a-7d46-4a2a-9571-a708b881a2dc"
   },
   "outputs": [],
   "source": [
    "from sentence_transformers import SentenceTransformer\n",
    "\n",
    "# Cargar el modelo\n",
    "model = SentenceTransformer('all-MiniLM-L6-v2')"
   ]
  },
  {
   "cell_type": "markdown",
   "metadata": {
    "id": "0xX7diwt81QG"
   },
   "source": [
    "##### Cálculo de embeddings"
   ]
  },
  {
   "cell_type": "code",
   "execution_count": null,
   "metadata": {
    "id": "oLrSnGKm8rwu"
   },
   "outputs": [],
   "source": [
    "def generar_embeddings(df, columna_texto=\"contenido_preprocesado\"):\n",
    "    \"\"\"\n",
    "    Genera embeddings SBERT para cada fila del DataFrame.\n",
    "    Parámetros:\n",
    "        df: DataFrame con la columna de texto preprocesado.\n",
    "        columna_texto: nombre de la columna con el texto (por defecto 'contenido_preprocesado').\n",
    "    Retorna:\n",
    "        DataFrame con nueva columna 'embedding'.\n",
    "    \"\"\"\n",
    "    # Lista de textos\n",
    "    textos = df[columna_texto].tolist()\n",
    "\n",
    "    # Generar embeddings\n",
    "    embeddings = model.encode(textos, show_progress_bar=True, convert_to_numpy=True)\n",
    "\n",
    "    # Asignar embeddings al DataFrame\n",
    "    df[\"embedding\"] = embeddings.tolist()\n",
    "\n",
    "    return df"
   ]
  },
  {
   "cell_type": "code",
   "execution_count": null,
   "metadata": {
    "colab": {
     "base_uri": "https://localhost:8080/",
     "height": 49,
     "referenced_widgets": [
      "eadcae17be9448cfba9d0e636c9a2b89",
      "6ca6b97c729c4321aa07eee7c86cbcab",
      "39ac2a1e6ce84213b10b7dbfa56c7565",
      "81811c9b37f341baa813817506e29af6",
      "4c64bae205524f3183528f6cc7f0f0f0",
      "1d0d711d9c1e40b2ac416f5d72bbc419",
      "02e83a228094499ca655ef957ea3e790",
      "f7cf5f5c050f4e4d96f86ffc80e6e3bf",
      "b1e74ec06d0647579b98c8925b7f7496",
      "ff45fc3e96fc4650b6c5e0ea9bb5199b",
      "9048656bf5f84b05ae99f2aa46655fbc"
     ]
    },
    "id": "1VXzyazp86zu",
    "outputId": "4f79887d-e80b-430a-9ba3-57f9d0d9654a"
   },
   "outputs": [],
   "source": [
    "df_recetas = generar_embeddings(df_recetas)"
   ]
  },
  {
   "cell_type": "code",
   "execution_count": null,
   "metadata": {
    "colab": {
     "base_uri": "https://localhost:8080/",
     "height": 1000
    },
    "id": "nLFbNKNR9AbG",
    "outputId": "f741d23c-db05-47d3-d06e-aadee1ae72fa"
   },
   "outputs": [],
   "source": [
    "df_recetas"
   ]
  },
  {
   "cell_type": "markdown",
   "metadata": {
    "id": "b_immDy3-rge"
   },
   "source": [
    "### Parte 4: Hacer RAG con las recetas obtenidas\n",
    "- Una vez que se ha construido el corpus, implementar y desplegar RAG para realizar búsquedas en el corpus"
   ]
  },
  {
   "cell_type": "markdown",
   "metadata": {
    "id": "dMsmjzseABxM"
   },
   "source": [
    "##### Similitud coseno y ranking top n"
   ]
  },
  {
   "cell_type": "code",
   "execution_count": null,
   "metadata": {
    "id": "fazBbOC8AEN9"
   },
   "outputs": [],
   "source": [
    "import numpy as np\n",
    "from sklearn.metrics.pairwise import cosine_similarity"
   ]
  },
  {
   "cell_type": "code",
   "execution_count": null,
   "metadata": {
    "id": "i7tO8UYzAGCc"
   },
   "outputs": [],
   "source": [
    "def obtener_indices_top_similares(df, query_embedding, top_n=5):\n",
    "    \"\"\"\n",
    "    Calcula similitud coseno y devuelve los índices de las filas más similares.\n",
    "    \"\"\"\n",
    "\n",
    "    matriz_embeddings = np.vstack(df[\"embedding\"].values)\n",
    "\n",
    "    query_embedding = np.array(query_embedding).reshape(1, -1)\n",
    "\n",
    "    # Calcular similitud coseno\n",
    "    similitudes = cosine_similarity(query_embedding, matriz_embeddings)[0]\n",
    "\n",
    "    # Obtener índices ordenados de mayor a menor similitud\n",
    "    indices_ordenados = np.argsort(similitudes)[::-1]\n",
    "\n",
    "    # Seleccionar top N\n",
    "    indices_top_n = indices_ordenados[:top_n]\n",
    "\n",
    "    return indices_top_n"
   ]
  },
  {
   "cell_type": "markdown",
   "metadata": {
    "id": "vUzN8IY8J2Vq"
   },
   "source": [
    "#### Selección de la receta que desea"
   ]
  },
  {
   "cell_type": "code",
   "execution_count": null,
   "metadata": {
    "colab": {
     "base_uri": "https://localhost:8080/"
    },
    "id": "LoRX72lLAiNb",
    "outputId": "05053854-9fcb-4c9f-bf63-d568dacdb011"
   },
   "outputs": [],
   "source": [
    "!pip install ipywidgets"
   ]
  },
  {
   "cell_type": "code",
   "execution_count": null,
   "metadata": {
    "id": "76bwxPj5KEV5"
   },
   "outputs": [],
   "source": [
    "import ipywidgets as widgets\n",
    "from IPython.display import display"
   ]
  },
  {
   "cell_type": "code",
   "execution_count": null,
   "metadata": {
    "id": "hOxAzERWD4dq"
   },
   "outputs": [],
   "source": [
    "from google.colab import output\n",
    "output.enable_custom_widget_manager()"
   ]
  },
  {
   "cell_type": "code",
   "execution_count": null,
   "metadata": {
    "id": "m7KemfdFRrOA"
   },
   "outputs": [],
   "source": [
    "def construir_contexto_receta(df, indice):\n",
    "    receta = df.iloc[indice]\n",
    "\n",
    "    # Manejo de valores None\n",
    "    title = receta['title'] or \"No disponible\"\n",
    "    summary = receta['summary'] or \"No disponible\"\n",
    "    rating = receta['rating'] or \"Sin calificación\"\n",
    "    servings = receta['servings'] or \"No especificado\"\n",
    "    time = receta['time'] or \"No especificado\"\n",
    "    image_url = receta['image_url'] or None\n",
    "\n",
    "    # Formateo de listas\n",
    "    ingredients = \"\\n\".join([f\"{i+1}. {ing}\" for i, ing in enumerate(receta['ingredients'])]) if receta['ingredients'] else \"No especificado\"\n",
    "    directions = \"\\n\".join([f\"**Paso {i+1}:** {paso}\" for i, paso in enumerate(receta['directions'])]) if receta['directions'] else \"No disponible\"\n",
    "    nutrition_facts = \"\\n\".join([f\"- {fact}\" for fact in receta['nutrition_facts']]) if receta['nutrition_facts'] else \"No disponible\"\n",
    "\n",
    "    # Construcción del contexto en formato Markdown\n",
    "    contexto = f\"\"\"\n",
    "## 🍳 {title}\n",
    "\n",
    "{f'<img src=\"{image_url}\" width=\"300\">' if image_url else '*Sin imagen disponible*'}\n",
    "\n",
    "**📝 Resumen:** {summary}\n",
    "\n",
    "**⭐ Calificación:** {rating} estrellas\n",
    "**👥 Porciones:** {servings}\n",
    "**⏱️ Tiempo:** {time}\n",
    "\n",
    "**🥕 Ingredientes:**\\n\n",
    "    {ingredients}\n",
    "\n",
    "**👨‍🍳 Preparación:**\\n\n",
    "    {directions}\n",
    "\n",
    "**📊 Datos nutricionales:**\\n\n",
    "    {nutrition_facts}\n",
    "    \"\"\"\n",
    "\n",
    "    return contexto"
   ]
  },
  {
   "cell_type": "code",
   "execution_count": null,
   "metadata": {
    "colab": {
     "base_uri": "https://localhost:8080/"
    },
    "id": "fhjo9U6MJGZK",
    "outputId": "22b61400-49d6-44a7-cef9-631a2146f2cd"
   },
   "outputs": [],
   "source": [
    "query = \"barbecue chicken\"\n",
    "preprocessed_query = preprocesar_texto(query)\n",
    "query_embedding = model.encode(preprocessed_query)\n",
    "\n",
    "indices_top5 = obtener_indices_top_similares(df_recetas, query_embedding, top_n=5)\n",
    "print(\"Índices top 5:\", indices_top5)"
   ]
  },
  {
   "cell_type": "code",
   "execution_count": null,
   "metadata": {
    "colab": {
     "base_uri": "https://localhost:8080/",
     "height": 244,
     "referenced_widgets": [
      "e10ab9ac2a284e10a0eb56935275476a",
      "acfdc501eedf41ff88755c53470e43dd",
      "19ea007cce044832b16075ff059ad31c",
      "bbde42fd787c41b596b4db7f74f330a6",
      "eda85da22db643baafaa8e6d41ab798a",
      "516ccada4d4245d29d98501b0a5d6844"
     ]
    },
    "id": "Vf_gQbNoD6R7",
    "outputId": "f5b29c6f-ee16-4899-de3d-9bb74baaa019"
   },
   "outputs": [],
   "source": [
    "indice_seleccionado = None\n",
    "\n",
    "# Crear opciones para los radio buttons (títulos de las recetas)\n",
    "opciones_recetas = [f\"{idx + 1}: {df_recetas.iloc[idx]['title']}\" for idx in indices_top5]\n",
    "\n",
    "# Crear los widgets (radio buttons + botón)\n",
    "radio = widgets.RadioButtons(\n",
    "    options=opciones_recetas,\n",
    "    description='Elige una receta:',\n",
    "    disabled=False\n",
    ")\n",
    "\n",
    "boton = widgets.Button(description=\"Seleccionar receta\")\n",
    "\n",
    "def on_button_click(b):\n",
    "    global indice_seleccionado\n",
    "\n",
    "    receta_seleccionada = radio.value\n",
    "    indice_seleccionado = int(receta_seleccionada.split(\":\")[0]) - 1\n",
    "\n",
    "    # Bloquear los widgets después de la selección\n",
    "    radio.disabled = True\n",
    "    boton.disabled = True\n",
    "\n",
    "    print(\"\\n--- Receta seleccionada ---\")\n",
    "    print(f\"Título: {df_recetas.iloc[indice_seleccionado]['title']}\")\n",
    "\n",
    "boton.on_click(on_button_click)\n",
    "\n",
    "# Mostrar el formulario\n",
    "display(radio)\n",
    "display(boton)"
   ]
  },
  {
   "cell_type": "code",
   "execution_count": null,
   "metadata": {
    "id": "xnLCR26pPNqI"
   },
   "outputs": [],
   "source": [
    "# Después de que el usuario seleccione una receta (indice_seleccionado contiene el índice)\n",
    "contexto_receta = construir_contexto_receta(df_recetas, indice_seleccionado)"
   ]
  },
  {
   "cell_type": "markdown",
   "metadata": {
    "id": "C1Hj_YOsApEE"
   },
   "source": [
    "#### Usar la API para generar la respuesta\n",
    "Usar las API de deepseek  para la generación de respuestas en base al contexto proporcionado."
   ]
  },
  {
   "cell_type": "code",
   "execution_count": null,
   "metadata": {
    "id": "QfORSxJBAiQJ"
   },
   "outputs": [],
   "source": [
    "from openai import OpenAI\n",
    "from IPython.display import Markdown, display"
   ]
  },
  {
   "cell_type": "code",
   "execution_count": null,
   "metadata": {
    "id": "EvUYi7_QAvKL"
   },
   "outputs": [],
   "source": [
    "client_deepseek = OpenAI(api_key=\"api_key\", base_url=\"URL\")"
   ]
  },
  {
   "cell_type": "code",
   "execution_count": null,
   "metadata": {
    "colab": {
     "base_uri": "https://localhost:8080/",
     "height": 863
    },
    "id": "EF0CsKNDSLUo",
    "outputId": "4a033e25-2de9-47fa-82c3-ebcb85462d37"
   },
   "outputs": [],
   "source": [
    "prompt = f\"\"\"\n",
    "    Eres un asistente culinario experto. Responde usando SOLAMENTE el siguiente contexto.\n",
    "    Si la pregunta no puede responderse con esta información, di: 'No tengo información sobre tu búsqueda en la receta seleccionada'.\n",
    "\n",
    "    Instrucciones de formato:\n",
    "    1. Muestra toda la información de la receta en formato Markdown si es que está disponible dentro del contexto, indícale al usuario que esos son los detalles de la receta y que disfrute de su platillo.\n",
    "    2. Si no está disponible, responde que no dispones de la información en la receta seleccionada\n",
    "\n",
    "    ------\n",
    "    {contexto_receta}\n",
    "    ------\n",
    "\n",
    "    Pregunta del usuario: {query}\n",
    "    \"\"\"\n",
    "\n",
    "# Enviar al modelo\n",
    "response = client_deepseek.chat.completions.create(\n",
    "    model=\"deepseek/deepseek-r1:free\",\n",
    "    messages=[\n",
    "        {\"role\": \"system\", \"content\": \"Eres un chef experto que responde con precisión.\"},\n",
    "        {\"role\": \"user\", \"content\": prompt}\n",
    "    ],\n",
    "    temperature=0\n",
    ")\n",
    "\n",
    "# Mostrar resultados\n",
    "display(Markdown(response.choices[0].message.content))"
   ]
  }
 ],
 "metadata": {
  "colab": {
   "provenance": []
  },
  "kernelspec": {
   "display_name": "Python 3",
   "name": "python3"
  },
  "language_info": {
   "name": "python"
  }
 },
 "nbformat": 4,
 "nbformat_minor": 0
}
